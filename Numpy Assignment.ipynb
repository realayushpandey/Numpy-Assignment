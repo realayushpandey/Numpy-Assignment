{
 "cells": [
  {
   "cell_type": "markdown",
   "id": "ac0279da-72c1-443b-af6d-8524cdb0ef22",
   "metadata": {},
   "source": [
    "# Numpy Assignment"
   ]
  },
  {
   "cell_type": "code",
   "execution_count": 1,
   "id": "543a26c5-0f4e-40c1-9bca-79e69a22b8fb",
   "metadata": {},
   "outputs": [],
   "source": [
    "import numpy as np"
   ]
  },
  {
   "cell_type": "markdown",
   "id": "89e737ac-422d-4b13-b67c-c0458a217138",
   "metadata": {},
   "source": [
    "# 1. Create a NumPy array 'arr' of integers from 0 to 5 and print its data type."
   ]
  },
  {
   "cell_type": "code",
   "execution_count": 2,
   "id": "9dc3729b-7362-4c5f-8f97-5483d8e5fc4a",
   "metadata": {},
   "outputs": [],
   "source": [
    "l = [0, 1, 2, 3, 4, 5]\n",
    "arr = np.array(l)"
   ]
  },
  {
   "cell_type": "code",
   "execution_count": 3,
   "id": "da54c0dc-c25d-4f9c-b695-f0b432461a4a",
   "metadata": {},
   "outputs": [
    {
     "data": {
      "text/plain": [
       "array([0, 1, 2, 3, 4, 5])"
      ]
     },
     "execution_count": 3,
     "metadata": {},
     "output_type": "execute_result"
    }
   ],
   "source": [
    "arr"
   ]
  },
  {
   "cell_type": "code",
   "execution_count": 4,
   "id": "f7249f10-26f5-4389-b01d-97375e611078",
   "metadata": {},
   "outputs": [
    {
     "name": "stdout",
     "output_type": "stream",
     "text": [
      "int64\n"
     ]
    }
   ],
   "source": [
    "print(arr.dtype)"
   ]
  },
  {
   "cell_type": "markdown",
   "id": "6fdd8076-8613-435e-b6e6-46fe61935f0b",
   "metadata": {},
   "source": [
    "# 2. Given a NumPy array 'arr', check if its data type is float64.\n",
    "      arr = np.array([1.5, 2.6, 3.7])"
   ]
  },
  {
   "cell_type": "code",
   "execution_count": 5,
   "id": "5dc308f6-530b-4d05-b9f4-00da2fe721c3",
   "metadata": {},
   "outputs": [],
   "source": [
    "arr = np.array([1.5, 2.6, 3.7])"
   ]
  },
  {
   "cell_type": "code",
   "execution_count": 6,
   "id": "c66bcef6-6f86-42df-adcf-21fc1576e387",
   "metadata": {},
   "outputs": [
    {
     "data": {
      "text/plain": [
       "dtype('float64')"
      ]
     },
     "execution_count": 6,
     "metadata": {},
     "output_type": "execute_result"
    }
   ],
   "source": [
    "arr.dtype"
   ]
  },
  {
   "cell_type": "markdown",
   "id": "85ac5883-7aa4-4971-9c2d-a4ab3348fa05",
   "metadata": {},
   "source": [
    "# 3. Create a NumPy array 'arr' with a data type of complex128 containing three complex numbers."
   ]
  },
  {
   "cell_type": "code",
   "execution_count": 7,
   "id": "b4832be9-320a-461c-a9ec-6d2bc47a974d",
   "metadata": {},
   "outputs": [
    {
     "name": "stdout",
     "output_type": "stream",
     "text": [
      "[1.+3.j 5.+7.j 4.+9.j]\n"
     ]
    }
   ],
   "source": [
    "import numpy as np\n",
    "\n",
    "arr = np.array([1+3j, 5+7j, 4+9j], dtype = np.complex128)\n",
    "print(arr)"
   ]
  },
  {
   "cell_type": "markdown",
   "id": "84880517-3208-4594-9bc7-3a7b56c47e22",
   "metadata": {},
   "source": [
    "# 4. Convert an existing NumPy array 'arr' of integers to float32 data type."
   ]
  },
  {
   "cell_type": "code",
   "execution_count": 8,
   "id": "98fabe0a-ec11-437b-b4f7-5b3981036f7b",
   "metadata": {},
   "outputs": [
    {
     "name": "stdout",
     "output_type": "stream",
     "text": [
      "[0. 1. 2. 3. 4. 5.]\n",
      "float32\n"
     ]
    }
   ],
   "source": [
    "import numpy as np\n",
    "\n",
    "arr = np.array([0, 1, 2, 3, 4, 5])\n",
    "\n",
    "a = arr.astype(np.float32)\n",
    "\n",
    "print(a)\n",
    "print(a.dtype)"
   ]
  },
  {
   "cell_type": "markdown",
   "id": "858a778c-5f04-45cd-a678-e89387cae9ea",
   "metadata": {},
   "source": [
    "# 5. Given a NumPy array 'arr' with float64 data type, convert it to float32 to reduce decimal precision."
   ]
  },
  {
   "cell_type": "code",
   "execution_count": 9,
   "id": "c1bc0499-98df-4e11-b80e-c0a70b5901de",
   "metadata": {},
   "outputs": [
    {
     "name": "stdout",
     "output_type": "stream",
     "text": [
      "Original array (float64): [1.12345679 2.98765432 3.45678901]\n",
      "Converted array (float32): [1.1234568 2.9876542 3.456789 ]\n"
     ]
    }
   ],
   "source": [
    "import numpy as np\n",
    "\n",
    "arr = np.array([1.123456789, 2.987654321, 3.456789012], dtype = np.float64)\n",
    "\n",
    "arr_float32 = arr.astype(np.float32)\n",
    "\n",
    "print(\"Original array (float64):\", arr)\n",
    "print(\"Converted array (float32):\", arr_float32)"
   ]
  },
  {
   "cell_type": "markdown",
   "id": "c4821342-ba41-4f13-a62b-a1c473c17cae",
   "metadata": {},
   "source": [
    "# 6. Write a function array_attributes that takes a NumPy array as input and returns its shape, size, and data type."
   ]
  },
  {
   "cell_type": "code",
   "execution_count": 11,
   "id": "49e41355-f00a-4187-b6ea-056b60117891",
   "metadata": {},
   "outputs": [
    {
     "name": "stdout",
     "output_type": "stream",
     "text": [
      "((2, 3), 6, dtype('int64'))\n"
     ]
    }
   ],
   "source": [
    "import numpy as np\n",
    "\n",
    "def array_attributes(arr):\n",
    "    shape = arr.shape\n",
    "    size = arr.size\n",
    "    data_type = arr.dtype\n",
    "    return shape, size, data_type\n",
    "\n",
    "arr = np.array([[1, 2, 3], [4, 5, 6]])\n",
    "print(array_attributes(arr))"
   ]
  },
  {
   "cell_type": "markdown",
   "id": "e74d8b83-6dd5-4293-8cfa-0409d767a833",
   "metadata": {},
   "source": [
    "# 7. Create a function array_dimension that takes a NumPy array as input and returns its dimensionality."
   ]
  },
  {
   "cell_type": "code",
   "execution_count": 12,
   "id": "da39c796-2f44-47a5-9667-5b457bf440a9",
   "metadata": {},
   "outputs": [
    {
     "name": "stdout",
     "output_type": "stream",
     "text": [
      "2\n"
     ]
    }
   ],
   "source": [
    "import numpy as np\n",
    "\n",
    "def array_dimension(arr):\n",
    "    return arr.ndim\n",
    "\n",
    "arr = np.array([[4, 5, 6], [7, 8, 9]])\n",
    "print(array_dimension(arr)) "
   ]
  },
  {
   "cell_type": "markdown",
   "id": "037eafa1-814e-464d-835a-76c3c8c3bae3",
   "metadata": {},
   "source": [
    "# 8. Design a function item_size_info that takes a NumPy array as input and returns the item size and the total size in bytes."
   ]
  },
  {
   "cell_type": "code",
   "execution_count": 13,
   "id": "9e507a53-6f9f-4de9-b2ed-1da730578b44",
   "metadata": {},
   "outputs": [
    {
     "name": "stdout",
     "output_type": "stream",
     "text": [
      "Item size: 8 bytes\n",
      "Total size: 40 bytes\n"
     ]
    }
   ],
   "source": [
    "import numpy as np\n",
    "\n",
    "def item_size_info(array):\n",
    "    if not isinstance(array, np.ndarray):\n",
    "        raise TypeError(\"Input must be a NumPy array\")\n",
    "    \n",
    "    item_size = array.itemsize\n",
    "    \n",
    "    total_size = array.nbytes\n",
    "    \n",
    "    return item_size, total_size\n",
    "\n",
    "if __name__ == \"__main__\":\n",
    "    arr = np.array([1, 2, 3, 4, 5])\n",
    "    item_size, total_size = item_size_info(arr)\n",
    "    print(f\"Item size: {item_size} bytes\")\n",
    "    print(f\"Total size: {total_size} bytes\")"
   ]
  },
  {
   "cell_type": "markdown",
   "id": "f08eb8f9-5680-4717-8fbb-e1cb1e31e612",
   "metadata": {},
   "source": [
    "# 9. Create a function array_strides that takes a NumPy array as input and returns the strides of the array."
   ]
  },
  {
   "cell_type": "code",
   "execution_count": 14,
   "id": "94b3f3d4-646a-4c81-aca3-7dc4faeffe0a",
   "metadata": {},
   "outputs": [
    {
     "name": "stdout",
     "output_type": "stream",
     "text": [
      "(24, 8)\n"
     ]
    }
   ],
   "source": [
    "import numpy as np\n",
    "\n",
    "def array_strides(array):\n",
    "    return array.strides\n",
    "\n",
    "arr = np.array([[1, 2, 3], [4, 5, 6], [7, 8, 9]])\n",
    "print(array_strides(arr))"
   ]
  },
  {
   "cell_type": "markdown",
   "id": "45209921-d912-4599-9d38-0d52b95bfcfd",
   "metadata": {},
   "source": [
    "# 10. Design a function shape_stride_relationship that takes a NumPy array as input and returns the shape and strides of the array."
   ]
  },
  {
   "cell_type": "code",
   "execution_count": 15,
   "id": "76c8c935-c51d-4e94-a676-6bc54bef4b4f",
   "metadata": {},
   "outputs": [
    {
     "name": "stdout",
     "output_type": "stream",
     "text": [
      "Shape: (3, 4, 2)\n",
      "Strides: (64, 16, 8)\n"
     ]
    }
   ],
   "source": [
    "import numpy as np\n",
    "\n",
    "def shape_stride_relationship(array):\n",
    "\n",
    "    shape = array.shape\n",
    "    strides = array.strides\n",
    "    return shape, strides\n",
    "\n",
    "arr = np.zeros((3, 4, 2))\n",
    "arr_shape, arr_strides = shape_stride_relationship(arr)\n",
    "print(\"Shape:\", arr_shape)\n",
    "print(\"Strides:\", arr_strides)"
   ]
  },
  {
   "cell_type": "markdown",
   "id": "07dcc59a-9349-4bb2-a887-b5c0a9c85603",
   "metadata": {},
   "source": [
    "# 11. Create a function `create_zeros_array` that takes an integer `n` as input and returns a NumPy array of zeros with `n` elements."
   ]
  },
  {
   "cell_type": "code",
   "execution_count": 16,
   "id": "c24d86ba-6587-4374-84f7-6f11b22f739f",
   "metadata": {},
   "outputs": [
    {
     "name": "stdout",
     "output_type": "stream",
     "text": [
      "[0. 0. 0. 0. 0.]\n"
     ]
    }
   ],
   "source": [
    "import numpy as np\n",
    "\n",
    "def create_zeros_array(n):\n",
    "\n",
    "    return np.zeros(n)\n",
    "\n",
    "n = 5\n",
    "zeros_array = create_zeros_array(n)\n",
    "print(zeros_array)"
   ]
  },
  {
   "cell_type": "markdown",
   "id": "e77278dc-d646-458d-8691-67eb43307fd2",
   "metadata": {},
   "source": [
    "# 12. Write a function `create_ones_matrix` that takes integers `rows` and `cols` as inputs and generates a 2D NumPy array filled with ones of size `rows x cols`."
   ]
  },
  {
   "cell_type": "code",
   "execution_count": 18,
   "id": "bf64a5ce-34ca-476a-ba15-5492881e5c25",
   "metadata": {},
   "outputs": [
    {
     "name": "stdout",
     "output_type": "stream",
     "text": [
      "[[1. 1. 1. 1.]\n",
      " [1. 1. 1. 1.]\n",
      " [1. 1. 1. 1.]\n",
      " [1. 1. 1. 1.]]\n"
     ]
    }
   ],
   "source": [
    "import numpy as np\n",
    "\n",
    "def create_ones_matrix(rows, cols):\n",
    "\n",
    "    return np.ones((rows, cols))\n",
    "\n",
    "rows = 4\n",
    "cols = 4\n",
    "ones_matrix = create_ones_matrix(rows, cols)\n",
    "print(ones_matrix)"
   ]
  },
  {
   "cell_type": "markdown",
   "id": "7844be0d-662f-4ae5-902b-666c0fb8485a",
   "metadata": {},
   "source": [
    "# 13. Write a function `generate_range_array` that takes three integers start, stop, and step as arguments and creates a NumPy array with a range starting from `start`, ending at stop (exclusive), and with the specified `step`."
   ]
  },
  {
   "cell_type": "code",
   "execution_count": 19,
   "id": "ef584a59-78f5-4f0e-91b2-691282366a29",
   "metadata": {},
   "outputs": [
    {
     "name": "stdout",
     "output_type": "stream",
     "text": [
      "[0 2 4 6 8]\n"
     ]
    }
   ],
   "source": [
    "import numpy as np\n",
    "\n",
    "def generate_range_array(start, stop, step):\n",
    "    return np.arange(start, stop, step)\n",
    "\n",
    "start = 0\n",
    "stop = 10\n",
    "step = 2\n",
    "result = generate_range_array(start, stop, step)\n",
    "print(result)"
   ]
  },
  {
   "cell_type": "markdown",
   "id": "596edcae-bead-4c32-a1aa-9807cfe64ab7",
   "metadata": {},
   "source": [
    "# 14. Design a function `generate_linear_space` that takes two floats `start`, `stop`, and an integer `num` as arguments and generates a NumPy array with num equally spaced values between `start` and `stop` (inclusive)."
   ]
  },
  {
   "cell_type": "code",
   "execution_count": 20,
   "id": "5e86ae69-e909-4eb1-9cb3-67b85080b517",
   "metadata": {},
   "outputs": [
    {
     "name": "stdout",
     "output_type": "stream",
     "text": [
      "[ 0.   2.5  5.   7.5 10. ]\n"
     ]
    }
   ],
   "source": [
    "import numpy as np\n",
    "\n",
    "def generate_linear_space(start, stop, num):\n",
    "    return np.linspace(start, stop, num)\n",
    "\n",
    "start = 0\n",
    "stop = 10\n",
    "num = 5\n",
    "result = generate_linear_space(start, stop, num)\n",
    "print(result)"
   ]
  },
  {
   "cell_type": "markdown",
   "id": "44d27304-a647-43d3-83b8-6bf665ec1fae",
   "metadata": {},
   "source": [
    "# 15. Create a function `create_identity_matrix` that takes an integer `n` as input and generates a square identity matrix of size `n x n` using `numpy.eye`."
   ]
  },
  {
   "cell_type": "code",
   "execution_count": 21,
   "id": "b035ac39-82b7-48d4-9dd9-92dea238a022",
   "metadata": {},
   "outputs": [
    {
     "name": "stdout",
     "output_type": "stream",
     "text": [
      "[[1. 0. 0. 0. 0.]\n",
      " [0. 1. 0. 0. 0.]\n",
      " [0. 0. 1. 0. 0.]\n",
      " [0. 0. 0. 1. 0.]\n",
      " [0. 0. 0. 0. 1.]]\n"
     ]
    }
   ],
   "source": [
    "import numpy as np\n",
    "\n",
    "def create_identity_matrix(n):\n",
    "\n",
    "    return np.eye(n)\n",
    "\n",
    "n = 5\n",
    "identity_matrix = create_identity_matrix(n)\n",
    "print(identity_matrix)"
   ]
  },
  {
   "cell_type": "markdown",
   "id": "e940c5f8-abc2-4d3a-aab7-e3a099252de8",
   "metadata": {},
   "source": [
    "# 16. Write a function that takes a Python list and converts it into a NumPy array."
   ]
  },
  {
   "cell_type": "code",
   "execution_count": 22,
   "id": "a26f1cf0-b907-41e2-910b-cbe5f91c79f3",
   "metadata": {},
   "outputs": [
    {
     "name": "stdout",
     "output_type": "stream",
     "text": [
      "[1 2 3 4 5]\n"
     ]
    }
   ],
   "source": [
    "import numpy as np\n",
    "\n",
    "def list_to_numpy_array(input_list):\n",
    "    return np.array(input_list)\n",
    "\n",
    "python_list = [1, 2, 3, 4, 5]\n",
    "numpy_array = list_to_numpy_array(python_list)\n",
    "print(numpy_array)"
   ]
  },
  {
   "cell_type": "markdown",
   "id": "cca83ec6-54a0-4ac0-bc04-a34c33a582ff",
   "metadata": {},
   "source": [
    "# 17. Create a NumPy array and demonstrate the use of `numpy.view` to create a new array object with the same data."
   ]
  },
  {
   "cell_type": "code",
   "execution_count": 23,
   "id": "75e8e6de-88c9-48ae-8db2-4ccd66633bf1",
   "metadata": {},
   "outputs": [
    {
     "name": "stdout",
     "output_type": "stream",
     "text": [
      "Original Array:\n",
      "[[100   2   3]\n",
      " [  4   5   6]]\n",
      "\n",
      "View Array:\n",
      "[[100   2   3]\n",
      " [  4   5   6]]\n"
     ]
    }
   ],
   "source": [
    "import numpy as np\n",
    "\n",
    "original_array = np.array([[1, 2, 3], [4, 5, 6]])\n",
    "\n",
    "view_array = original_array.view()\n",
    "\n",
    "view_array[0, 0] = 100\n",
    "\n",
    "print(\"Original Array:\")\n",
    "print(original_array)\n",
    "print(\"\\nView Array:\")\n",
    "print(view_array)"
   ]
  },
  {
   "cell_type": "markdown",
   "id": "0b111a86-b099-483d-8589-1441c9964ce0",
   "metadata": {},
   "source": [
    "# 18. Write a function that takes two NumPy arrays and concatenates them along a specified axis."
   ]
  },
  {
   "cell_type": "code",
   "execution_count": 24,
   "id": "0c006319-f227-4323-a70a-26a23330c0db",
   "metadata": {},
   "outputs": [
    {
     "name": "stdout",
     "output_type": "stream",
     "text": [
      "Concatenated along axis 0:\n",
      "[[1 2]\n",
      " [3 4]\n",
      " [5 6]]\n",
      "\n",
      "Concatenated along axis 1:\n",
      "[[1 2 5]\n",
      " [3 4 6]]\n"
     ]
    }
   ],
   "source": [
    "import numpy as np\n",
    "\n",
    "def concatenate_arrays(arr1, arr2, axis=0):\n",
    "\n",
    "    return np.concatenate((arr1, arr2), axis=axis)\n",
    "\n",
    "arr1 = np.array([[1, 2], [3, 4]])\n",
    "arr2 = np.array([[5, 6]])\n",
    "\n",
    "concatenated_arr = concatenate_arrays(arr1, arr2, axis=0)\n",
    "print(\"Concatenated along axis 0:\")\n",
    "print(concatenated_arr)\n",
    "\n",
    "concatenated_arr = concatenate_arrays(arr1, arr2.T, axis=1)\n",
    "print(\"\\nConcatenated along axis 1:\")\n",
    "print(concatenated_arr)"
   ]
  },
  {
   "cell_type": "markdown",
   "id": "910d699e-0cb6-44b3-9ff2-c8e9535a78f6",
   "metadata": {},
   "source": [
    "# 19. Create two NumPy arrays with different shapes and concatenate them horizontally using `numpy.concatenate`."
   ]
  },
  {
   "cell_type": "code",
   "execution_count": 25,
   "id": "95fd05ca-1fa2-4e03-b00a-fd0f7d4cabe1",
   "metadata": {},
   "outputs": [
    {
     "name": "stdout",
     "output_type": "stream",
     "text": [
      "Array 1:\n",
      "[[1 2 3]\n",
      " [4 5 6]]\n",
      "Array 2:\n",
      "[[7]\n",
      " [8]]\n",
      "Concatenated array:\n",
      "[[1 2 3 7]\n",
      " [4 5 6 8]]\n"
     ]
    }
   ],
   "source": [
    "import numpy as np\n",
    "\n",
    "array1 = np.array([[1, 2, 3],\n",
    "                   [4, 5, 6]])\n",
    "array2 = np.array([[7],\n",
    "                    [8]])\n",
    "\n",
    "concatenated_array = np.concatenate((array1, array2), axis=1)\n",
    "\n",
    "print(\"Array 1:\")\n",
    "print(array1)\n",
    "print(\"Array 2:\")\n",
    "print(array2)\n",
    "print(\"Concatenated array:\")\n",
    "print(concatenated_array)"
   ]
  },
  {
   "cell_type": "markdown",
   "id": "592a907c-e50f-431c-a3a1-706d0222bdc4",
   "metadata": {},
   "source": [
    "# 20. Write a function that vertically stacks multiple NumPy arrays given as a list."
   ]
  },
  {
   "cell_type": "code",
   "execution_count": 26,
   "id": "0fb87193-f442-455f-816e-9472dcf3c008",
   "metadata": {},
   "outputs": [
    {
     "name": "stdout",
     "output_type": "stream",
     "text": [
      "[[ 1  2  3]\n",
      " [ 4  5  6]\n",
      " [ 7  8  9]\n",
      " [10 11 12]\n",
      " [13 14 15]\n",
      " [16 17 18]]\n"
     ]
    }
   ],
   "source": [
    "import numpy as np\n",
    "\n",
    "def stack_arrays_vertically(arrays):\n",
    "\n",
    "    stacked_array = np.vstack(arrays)\n",
    "    return stacked_array\n",
    "\n",
    "array1 = np.array([[1, 2, 3],\n",
    "                   [4, 5, 6]])\n",
    "\n",
    "array2 = np.array([[7, 8, 9],\n",
    "                   [10, 11, 12]])\n",
    "\n",
    "array3 = np.array([[13, 14, 15],\n",
    "                   [16, 17, 18]])\n",
    "\n",
    "arrays_list = [array1, array2, array3]\n",
    "\n",
    "result = stack_arrays_vertically(arrays_list)\n",
    "print(result)"
   ]
  },
  {
   "cell_type": "markdown",
   "id": "7e249675-116d-4bcc-8855-a44fe32fc639",
   "metadata": {},
   "source": [
    "# 21. Write a Python function using NumPy to create an array of integers within a specified range (inclusive) with a given step size."
   ]
  },
  {
   "cell_type": "code",
   "execution_count": 27,
   "id": "c90b527b-b711-4aa0-a8a2-7c94c50f4c07",
   "metadata": {},
   "outputs": [
    {
     "name": "stdout",
     "output_type": "stream",
     "text": [
      "[ 0  2  4  6  8 10]\n"
     ]
    }
   ],
   "source": [
    "import numpy as np\n",
    "\n",
    "def create_array(start, stop, step):\n",
    "\n",
    "    return np.arange(start, stop + 1, step, dtype = int)\n",
    "\n",
    "start = 0\n",
    "stop = 10\n",
    "step = 2\n",
    "result_array = create_array(start, stop, step)\n",
    "print(result_array)"
   ]
  },
  {
   "cell_type": "markdown",
   "id": "745c9d9c-3752-42db-bca9-8a8af80c7485",
   "metadata": {},
   "source": [
    "# 22. Write a Python function using NumPy to generate an array of 10 equally spaced values between 0 and 1 (inclusive)."
   ]
  },
  {
   "cell_type": "code",
   "execution_count": 28,
   "id": "5f6e26b9-454c-4184-9b78-0806c0a97f37",
   "metadata": {},
   "outputs": [
    {
     "name": "stdout",
     "output_type": "stream",
     "text": [
      "[0.         0.11111111 0.22222222 0.33333333 0.44444444 0.55555556\n",
      " 0.66666667 0.77777778 0.88888889 1.        ]\n"
     ]
    }
   ],
   "source": [
    "import numpy as np\n",
    "\n",
    "def generate_array():\n",
    "    return np.linspace(0, 1, 10)\n",
    "\n",
    "print(generate_array())"
   ]
  },
  {
   "cell_type": "markdown",
   "id": "2f2d3d13-9f5e-4f77-8371-c6a8e3cadc1b",
   "metadata": {},
   "source": [
    "# 23. Write a Python function using NumPy to create an array of 5 logarithmically spaced values between 1 and 1000 (inclusive)."
   ]
  },
  {
   "cell_type": "code",
   "execution_count": 29,
   "id": "d550fe6e-f62b-4072-bc26-d3a4d6f86c9c",
   "metadata": {},
   "outputs": [
    {
     "name": "stdout",
     "output_type": "stream",
     "text": [
      "[   1.            5.62341325   31.6227766   177.827941   1000.        ]\n"
     ]
    }
   ],
   "source": [
    "import numpy as np\n",
    "\n",
    "def log_spaced_values(start, end, num):\n",
    "    return np.logspace(np.log10(start), np.log10(end), num=num)\n",
    "\n",
    "log_values = log_spaced_values(1, 1000, 5)\n",
    "print(log_values)"
   ]
  },
  {
   "cell_type": "markdown",
   "id": "5ce1b785-4d4e-455b-a1ce-597a83ad027e",
   "metadata": {},
   "source": [
    "# 24. Create a Pandas DataFrame using a NumPy array that contains 5 rows and 3 columns, where the values are random integers between 1 and 100."
   ]
  },
  {
   "cell_type": "code",
   "execution_count": 30,
   "id": "6f50bbac-f3fb-4b36-bfab-60cd38e57413",
   "metadata": {},
   "outputs": [
    {
     "name": "stdout",
     "output_type": "stream",
     "text": [
      "   Column1  Column2  Column3\n",
      "0       38       97       38\n",
      "1       36       86       55\n",
      "2       11       29       76\n",
      "3       29       33       88\n",
      "4       45       90      100\n"
     ]
    }
   ],
   "source": [
    "import numpy as np\n",
    "import pandas as pd\n",
    "\n",
    "data = np.random.randint(1, 101, size=(5, 3))\n",
    "\n",
    "df = pd.DataFrame(data, columns = ['Column1', 'Column2', 'Column3'])\n",
    "\n",
    "print(df)"
   ]
  },
  {
   "cell_type": "markdown",
   "id": "62593b2f-6a6d-4df8-9ce4-379720dccde9",
   "metadata": {},
   "source": [
    "# 25. Write a function that takes a Pandas DataFrame and replaces all negative values in a specific column with zeros. Use NumPy operations within the Pandas DataFrame."
   ]
  },
  {
   "cell_type": "code",
   "execution_count": 61,
   "id": "77b98f11-938c-4a95-bb76-7453bc670819",
   "metadata": {},
   "outputs": [
    {
     "name": "stdout",
     "output_type": "stream",
     "text": [
      "Before replacing negative values with zeros:\n",
      "   A   B\n",
      "0 -1  10\n",
      "1  2 -20\n",
      "2 -3  30\n",
      "3  4 -40\n",
      "4 -5  50\n",
      "\n",
      "After replacing negative values in column 'A' with zeros:\n",
      "   A   B\n",
      "0  0  10\n",
      "1  2 -20\n",
      "2  0  30\n",
      "3  4 -40\n",
      "4  0  50\n"
     ]
    }
   ],
   "source": [
    "import pandas as pd\n",
    "import numpy as np\n",
    "\n",
    "def replace_negative_with_zero(df, column_name):\n",
    "    if column_name not in df.columns:\n",
    "        print(f\"Column '{column_name}' not found in DataFrame.\")\n",
    "        return\n",
    "\n",
    "    df[column_name] = np.where(df[column_name] < 0, 0, df[column_name])\n",
    "\n",
    "data = {'A': [-1, 2, -3, 4, -5],\n",
    "        'B': [10, -20, 30, -40, 50]}\n",
    "df = pd.DataFrame(data)\n",
    "\n",
    "print(\"Before replacing negative values with zeros:\")\n",
    "print(df)\n",
    "\n",
    "replace_negative_with_zero(df, 'A')\n",
    "\n",
    "print(\"\\nAfter replacing negative values in column 'A' with zeros:\")\n",
    "print(df)"
   ]
  },
  {
   "cell_type": "markdown",
   "id": "f3d3c49e-4292-4a3f-9190-95293ae90b69",
   "metadata": {},
   "source": [
    "# 26. Access the 3rd element from the given NumPy array.\n",
    "       arr = np.array([10, 20, 30, 40, 50])"
   ]
  },
  {
   "cell_type": "code",
   "execution_count": 31,
   "id": "49c4d3f2-a7be-479a-95c0-09d469358e7f",
   "metadata": {},
   "outputs": [
    {
     "name": "stdout",
     "output_type": "stream",
     "text": [
      "30\n"
     ]
    }
   ],
   "source": [
    "arr = np.array([10, 20, 30, 40, 50])\n",
    "third_element = arr[2]\n",
    "print(third_element)"
   ]
  },
  {
   "cell_type": "markdown",
   "id": "91af473f-e6ba-4ceb-a396-89d97446e0fc",
   "metadata": {},
   "source": [
    "# 27. Retrieve the element at index (1, 2) from the 2D NumPy array.\n",
    "        arr_2d = np.array([[1, 2, 3],\n",
    "                           [4, 5, 6],\n",
    "                           [7, 8, 9]])"
   ]
  },
  {
   "cell_type": "code",
   "execution_count": 32,
   "id": "c280e862-13d6-4207-88eb-50b112401657",
   "metadata": {},
   "outputs": [
    {
     "name": "stdout",
     "output_type": "stream",
     "text": [
      "6\n"
     ]
    }
   ],
   "source": [
    "import numpy as np\n",
    "\n",
    "arr_2d = np.array([[1, 2, 3],\n",
    "                   [4, 5, 6],\n",
    "                   [7, 8, 9]])\n",
    "\n",
    "element = arr_2d[1, 2]\n",
    "print(element)"
   ]
  },
  {
   "cell_type": "markdown",
   "id": "7c485150-39a4-4484-84f1-96bbb898e3d1",
   "metadata": {},
   "source": [
    "# 28. Using boolean indexing, extract elements greater than 5 from the given NumPy array.\n",
    "        arr = np.array([3, 8, 2, 10, 5, 7])"
   ]
  },
  {
   "cell_type": "code",
   "execution_count": 33,
   "id": "a045d0c1-a40f-42c1-a215-a3ff2f0b57d9",
   "metadata": {},
   "outputs": [
    {
     "name": "stdout",
     "output_type": "stream",
     "text": [
      "[ 8 10  7]\n"
     ]
    }
   ],
   "source": [
    "import numpy as np\n",
    "\n",
    "arr = np.array([3, 8, 2, 10, 5, 7])\n",
    "\n",
    "result = arr[arr > 5]\n",
    "\n",
    "print(result)"
   ]
  },
  {
   "cell_type": "markdown",
   "id": "3783086e-88ce-4731-b8fb-e4fc688eb5cb",
   "metadata": {},
   "source": [
    "# 29. Perform basic slicing to extract elements from index 2 to 5 (inclusive) from the given NumPy array.\n",
    "        arr = np.array([1, 2, 3, 4, 5, 6, 7, 8, 9])"
   ]
  },
  {
   "cell_type": "code",
   "execution_count": 35,
   "id": "998972f3-3718-4774-9a10-f3b750c1cc8e",
   "metadata": {},
   "outputs": [
    {
     "name": "stdout",
     "output_type": "stream",
     "text": [
      "[3 4 5 6]\n"
     ]
    }
   ],
   "source": [
    "import numpy as np\n",
    "\n",
    "arr = np.array([1, 2, 3, 4, 5, 6, 7, 8, 9])\n",
    "\n",
    "sliced_arr = arr[2:6]\n",
    "print(sliced_arr)"
   ]
  },
  {
   "cell_type": "markdown",
   "id": "b8d918e4-611c-48c4-a3a4-7d1d76582041",
   "metadata": {},
   "source": [
    "# 30. Slice the 2D NumPy array to extract the sub-array `[[2, 3], [5, 6]]` from the given array.\n",
    "            arr_2d = np.array([[1, 2, 3],\n",
    "                               [4, 5, 6],\n",
    "                               [7, 8, 9]])"
   ]
  },
  {
   "cell_type": "code",
   "execution_count": 36,
   "id": "19cd5104-cf01-4ceb-836e-4c8019d15dc5",
   "metadata": {},
   "outputs": [
    {
     "name": "stdout",
     "output_type": "stream",
     "text": [
      "[[2 3]\n",
      " [5 6]]\n"
     ]
    }
   ],
   "source": [
    "import numpy as np\n",
    "\n",
    "arr_2d = np.array([[1, 2, 3],\n",
    "                   [4, 5, 6],\n",
    "                   [7, 8, 9]])\n",
    "\n",
    "sub_array = arr_2d[0:2, 1:3]\n",
    "print(sub_array)"
   ]
  },
  {
   "cell_type": "markdown",
   "id": "77e3b389-72b1-44d6-9954-9908ba35816a",
   "metadata": {},
   "source": [
    "# 31.Write a NumPy function to extract elements in specific order from a given 2D array based on indices provided in another array."
   ]
  },
  {
   "cell_type": "code",
   "execution_count": 37,
   "id": "a58e96fa-9ce0-4315-8e42-3d65c2a0dc45",
   "metadata": {},
   "outputs": [
    {
     "name": "stdout",
     "output_type": "stream",
     "text": [
      "[2 5 8]\n"
     ]
    }
   ],
   "source": [
    "import numpy as np\n",
    "\n",
    "def extract_elements(arr, indices):\n",
    "\n",
    "    flat_arr = arr.flatten()\n",
    "\n",
    "    extracted_elements = flat_arr[indices]\n",
    "\n",
    "    return extracted_elements\n",
    "\n",
    "arr = np.array([[1, 2, 3],\n",
    "                [4, 5, 6],\n",
    "                [7, 8, 9]])\n",
    "\n",
    "indices = np.array([1, 4, 7])\n",
    "\n",
    "result = extract_elements(arr, indices)\n",
    "print(result)"
   ]
  },
  {
   "cell_type": "markdown",
   "id": "ae79117e-1ba7-48e0-8a57-9aa87511486a",
   "metadata": {},
   "source": [
    "# 32. Create a NumPy function that filters elements greater than a threshold from a given 1D array using boolean indexing."
   ]
  },
  {
   "cell_type": "code",
   "execution_count": 1,
   "id": "0152ea4a-49a8-4305-94fd-08122cd16f89",
   "metadata": {},
   "outputs": [
    {
     "name": "stdout",
     "output_type": "stream",
     "text": [
      "[ 8 10  7]\n"
     ]
    }
   ],
   "source": [
    "import numpy as np\n",
    "\n",
    "def filter_greater_than_threshold(arr, threshold):\n",
    "\n",
    "    return arr[arr > threshold]\n",
    "\n",
    "input_array = np.array([1, 5, 8, 3, 10, 7])\n",
    "threshold_value = 5\n",
    "filtered_array = filter_greater_than_threshold(input_array, threshold_value)\n",
    "print(filtered_array)"
   ]
  },
  {
   "cell_type": "markdown",
   "id": "d9e59e81-570d-4f45-bfc1-bf5c84d0831a",
   "metadata": {},
   "source": [
    "# 33. Develop a NumPy function that extracts specific elements from a 3D array using indices provided in three separate arrays for each dimension."
   ]
  },
  {
   "cell_type": "code",
   "execution_count": 2,
   "id": "3c8df2f1-5971-47a4-b2da-f204faff9f63",
   "metadata": {},
   "outputs": [
    {
     "name": "stdout",
     "output_type": "stream",
     "text": [
      "[ 0 13 26]\n"
     ]
    }
   ],
   "source": [
    "import numpy as np\n",
    "\n",
    "def extract_elements_3d(array_3d, x_indices, y_indices, z_indices):\n",
    "\n",
    "    x_indices = np.asarray(x_indices)\n",
    "    y_indices = np.asarray(y_indices)\n",
    "    z_indices = np.asarray(z_indices)\n",
    "    \n",
    "    if not (x_indices.shape == y_indices.shape == z_indices.shape):\n",
    "        raise ValueError(\"All index arrays must have the same length.\")\n",
    "    \n",
    "    extracted_elements = array_3d[x_indices, y_indices, z_indices]\n",
    "    \n",
    "    return extracted_elements\n",
    "\n",
    "array_3d = np.arange(27).reshape((3, 3, 3))\n",
    "x_indices = np.array([0, 1, 2])\n",
    "y_indices = np.array([0, 1, 2])\n",
    "z_indices = np.array([0, 1, 2])\n",
    "\n",
    "extracted_elements = extract_elements_3d(array_3d, x_indices, y_indices, z_indices)\n",
    "print(extracted_elements)"
   ]
  },
  {
   "cell_type": "markdown",
   "id": "a0b738cf-dda4-46c7-8db7-258d298dd9d1",
   "metadata": {},
   "source": [
    "# 34. Write a NumPy function that returns elements from an array where both two conditions are satisfied using boolean indexing."
   ]
  },
  {
   "cell_type": "code",
   "execution_count": 3,
   "id": "bde94a6e-7ae0-40cb-a19d-cda3eea6a661",
   "metadata": {},
   "outputs": [
    {
     "name": "stdout",
     "output_type": "stream",
     "text": [
      "[ 6  8 10]\n"
     ]
    }
   ],
   "source": [
    "import numpy as np\n",
    "\n",
    "def filter_array_with_conditions(array, condition1, condition2):\n",
    "\n",
    "    mask1 = condition1(array)\n",
    "    mask2 = condition2(array)\n",
    "    \n",
    "    combined_mask = mask1 & mask2\n",
    "    \n",
    "    filtered_array = array[combined_mask]\n",
    "    \n",
    "    return filtered_array\n",
    "\n",
    "array = np.array([1, 2, 3, 4, 5, 6, 7, 8, 9, 10])\n",
    "condition1 = lambda x: x > 4\n",
    "condition2 = lambda x: x % 2 == 0\n",
    "\n",
    "filtered_elements = filter_array_with_conditions(array, condition1, condition2)\n",
    "print(filtered_elements)"
   ]
  },
  {
   "cell_type": "markdown",
   "id": "a7da8241-d0e2-4ecf-a792-728e44ffe544",
   "metadata": {},
   "source": [
    "# 35. Create a NumPy function that extracts elements from a 2D array using row and column indices provided in separate arrays."
   ]
  },
  {
   "cell_type": "code",
   "execution_count": 4,
   "id": "08b4f883-9ec3-4907-88ff-582dfe1b5cc4",
   "metadata": {},
   "outputs": [
    {
     "name": "stdout",
     "output_type": "stream",
     "text": [
      "[3 5 7]\n"
     ]
    }
   ],
   "source": [
    "import numpy as np\n",
    "\n",
    "def extract_elements(arr, row_indices, col_indices):\n",
    "\n",
    "    if len(row_indices) != len(col_indices):\n",
    "        raise ValueError(\"Row and column indices arrays must have the same length\")\n",
    "    \n",
    "    return arr[row_indices, col_indices]\n",
    "\n",
    "arr = np.array([[1, 2, 3],\n",
    "                [4, 5, 6],\n",
    "                [7, 8, 9]])\n",
    "\n",
    "row_indices = np.array([0, 1, 2])\n",
    "col_indices = np.array([2, 1, 0])\n",
    "\n",
    "extracted_elements = extract_elements(arr, row_indices, col_indices)\n",
    "print(extracted_elements)"
   ]
  },
  {
   "cell_type": "markdown",
   "id": "7b1ffbf6-93da-4f0b-abcd-7fed6997017b",
   "metadata": {},
   "source": [
    "# 36. Given an array arr of shape (3, 3), add a scalar value of 5 to each element using NumPy broadcasting."
   ]
  },
  {
   "cell_type": "code",
   "execution_count": 5,
   "id": "9c344256-4877-4225-a31e-ab1b68a1748c",
   "metadata": {},
   "outputs": [
    {
     "name": "stdout",
     "output_type": "stream",
     "text": [
      "[[ 6  7  8]\n",
      " [ 9 10 11]\n",
      " [12 13 14]]\n"
     ]
    }
   ],
   "source": [
    "import numpy as np\n",
    "\n",
    "arr = np.array([[1, 2, 3], [4, 5, 6], [7, 8, 9]])\n",
    "\n",
    "result = arr + 5\n",
    "\n",
    "print(result)"
   ]
  },
  {
   "cell_type": "markdown",
   "id": "f8ca7b20-c46b-44ec-bad7-0850b2f5ee29",
   "metadata": {},
   "source": [
    "# 37. Consider two arrays arr1 of shape (1, 3) and arr2 of shape (3, 4). Multiply each row of arr2 by the corresponding element in arr1 using NumPy broadcasting."
   ]
  },
  {
   "cell_type": "code",
   "execution_count": 6,
   "id": "18fbf877-eee8-4f10-9b79-f2cdef840bef",
   "metadata": {},
   "outputs": [
    {
     "name": "stdout",
     "output_type": "stream",
     "text": [
      "[[ 2  4  6  8]\n",
      " [15 18 21 24]\n",
      " [36 40 44 48]]\n"
     ]
    }
   ],
   "source": [
    "import numpy as np\n",
    "\n",
    "arr1 = np.array([[2, 3, 4]])\n",
    "arr2 = np.array([[1, 2, 3, 4], [5, 6, 7, 8], [9, 10, 11, 12]])\n",
    "\n",
    "arr1_transposed = arr1.T \n",
    "\n",
    "result = arr1_transposed * arr2\n",
    "\n",
    "print(result)"
   ]
  },
  {
   "cell_type": "markdown",
   "id": "c3950fc4-4593-4dab-9f8e-130fc591f283",
   "metadata": {},
   "source": [
    "# 38. Given a 1D array arr1 of shape (1, 4) and a 2D array arr2 of shape (4, 3), add arr1 to each row of arr2 using NumPy broadcasting."
   ]
  },
  {
   "cell_type": "code",
   "execution_count": 7,
   "id": "0d93e25a-8962-4c89-952f-fbc78ba1daff",
   "metadata": {},
   "outputs": [
    {
     "name": "stdout",
     "output_type": "stream",
     "text": [
      "arr1:\n",
      " [[1 2 3 4]]\n",
      "arr2:\n",
      " [[ 5  6  7]\n",
      " [ 8  9 10]\n",
      " [11 12 13]\n",
      " [14 15 16]]\n",
      "result:\n",
      " [[ 6  7  8]\n",
      " [10 11 12]\n",
      " [14 15 16]\n",
      " [18 19 20]]\n"
     ]
    }
   ],
   "source": [
    "import numpy as np\n",
    "\n",
    "arr1 = np.array([[1, 2, 3, 4]])\n",
    "\n",
    "arr2 = np.array([\n",
    "    [5, 6, 7],\n",
    "    [8, 9, 10],\n",
    "    [11, 12, 13],\n",
    "    [14, 15, 16]\n",
    "])\n",
    "\n",
    "arr2_transposed = arr2.T\n",
    "\n",
    "result_transposed = arr2_transposed + arr1\n",
    "\n",
    "result = result_transposed.T\n",
    "\n",
    "print(\"arr1:\\n\", arr1)\n",
    "print(\"arr2:\\n\", arr2)\n",
    "print(\"result:\\n\", result)"
   ]
  },
  {
   "cell_type": "markdown",
   "id": "2b6cc43f-5568-43b4-a8a1-a4bea8d79721",
   "metadata": {},
   "source": [
    "# 39. Consider two arrays arr1 of shape (3, 1) and arr2 of shape (1, 3). Add these arrays using NumPy broadcasting"
   ]
  },
  {
   "cell_type": "code",
   "execution_count": 10,
   "id": "a65120b3-e47d-40bf-bafc-3700f978bd8d",
   "metadata": {},
   "outputs": [
    {
     "data": {
      "text/plain": [
       "array([[5, 6, 7],\n",
       "       [6, 7, 8],\n",
       "       [7, 8, 9]])"
      ]
     },
     "execution_count": 10,
     "metadata": {},
     "output_type": "execute_result"
    }
   ],
   "source": [
    "import numpy as np\n",
    "\n",
    "arr1 = np.array([[1], [2], [3]])\n",
    "arr2 = np.array([[4, 5, 6]])\n",
    "\n",
    "result = arr1 + arr2\n",
    "\n",
    "result"
   ]
  },
  {
   "cell_type": "markdown",
   "id": "97edc32e-5fb4-4d1e-85ea-cebb254b60d5",
   "metadata": {},
   "source": [
    "# 40. Given arrays arr1 of shape (2, 3) and arr2 of shape (2, 2), perform multiplication using NumPy broadcasting. Handle the shape incompatibility."
   ]
  },
  {
   "cell_type": "code",
   "execution_count": 11,
   "id": "4e576d80-e234-43b7-a545-fc4ed059be5a",
   "metadata": {},
   "outputs": [
    {
     "name": "stdout",
     "output_type": "stream",
     "text": [
      "arr1:\n",
      " [[1 2 3]\n",
      " [4 5 6]]\n",
      "arr2 extended:\n",
      " [[1 2 2]\n",
      " [3 4 4]]\n",
      "Result of multiplication:\n",
      " [[ 1  4  6]\n",
      " [12 20 24]]\n"
     ]
    }
   ],
   "source": [
    "import numpy as np\n",
    "\n",
    "arr1 = np.array([[1, 2, 3], [4, 5, 6]])\n",
    "arr2 = np.array([[1, 2], [3, 4]])\n",
    "\n",
    "arr2_extended = np.hstack((arr2, arr2[:, -1].reshape(-1, 1)))\n",
    "\n",
    "result = arr1 * arr2_extended\n",
    "\n",
    "print(\"arr1:\\n\", arr1)\n",
    "print(\"arr2 extended:\\n\", arr2_extended)\n",
    "print(\"Result of multiplication:\\n\", result)"
   ]
  },
  {
   "cell_type": "markdown",
   "id": "e7e3b09d-6d26-4e3c-9779-10650a3e858e",
   "metadata": {},
   "source": [
    "# 41. Calculate column wise mean for the given array:\n",
    "            arr = np.array([[1, 2, 3], [4, 5, 6]])"
   ]
  },
  {
   "cell_type": "code",
   "execution_count": 12,
   "id": "7c4ff9da-be9d-4787-be19-654ff0417e35",
   "metadata": {},
   "outputs": [
    {
     "name": "stdout",
     "output_type": "stream",
     "text": [
      "Column-wise mean: [2.5 3.5 4.5]\n"
     ]
    }
   ],
   "source": [
    "import numpy as np\n",
    "\n",
    "arr = np.array([[1, 2, 3], [4, 5, 6]])\n",
    "column_means = np.mean(arr, axis=0)\n",
    "\n",
    "print(\"Column-wise mean:\", column_means)"
   ]
  },
  {
   "cell_type": "markdown",
   "id": "e7fee378-a9fd-48b5-bef8-286fef641f1e",
   "metadata": {},
   "source": [
    "# 42. Find maximum value in each row of the given array:\n",
    "        arr = np.array([[1, 2, 3], [4, 5, 6]])"
   ]
  },
  {
   "cell_type": "code",
   "execution_count": 13,
   "id": "ab44f777-c170-420b-9ee8-5cd6e53ea6d9",
   "metadata": {},
   "outputs": [
    {
     "name": "stdout",
     "output_type": "stream",
     "text": [
      "Maximum values in each row: [3 6]\n"
     ]
    }
   ],
   "source": [
    "import numpy as np\n",
    "\n",
    "arr = np.array([[1, 2, 3], [4, 5, 6]])\n",
    "\n",
    "max_values = np.amax(arr, axis=1)\n",
    "\n",
    "print(\"Maximum values in each row:\", max_values)"
   ]
  },
  {
   "cell_type": "markdown",
   "id": "d727cedb-3533-4edb-b6e6-aaee4c01fc87",
   "metadata": {},
   "source": [
    "# 43. For the given array, find indices of maximum value in each column.\n",
    "          arr = np.array([[1, 2, 3], [4, 5, 6]])"
   ]
  },
  {
   "cell_type": "code",
   "execution_count": 14,
   "id": "4a0b2ece-0939-4114-812a-8e634d69a812",
   "metadata": {},
   "outputs": [
    {
     "name": "stdout",
     "output_type": "stream",
     "text": [
      "Indices of maximum value in each column: [1 1 1]\n"
     ]
    }
   ],
   "source": [
    "import numpy as np\n",
    "\n",
    "arr = np.array([[1, 2, 3], [4, 5, 6]])\n",
    "\n",
    "max_indices = np.argmax(arr, axis=0)\n",
    "\n",
    "print(\"Indices of maximum value in each column:\", max_indices)"
   ]
  },
  {
   "cell_type": "markdown",
   "id": "8a40ca86-26a3-4ca6-ae5a-18a43739299f",
   "metadata": {},
   "source": [
    "# 44. For the given array, apply custom function to calculate moving sum along rows.\n",
    "            arr = np.array([[1, 2, 3], [4, 5, 6]])"
   ]
  },
  {
   "cell_type": "code",
   "execution_count": 17,
   "id": "2033db69-54b9-4564-a3af-59c52791d337",
   "metadata": {},
   "outputs": [
    {
     "name": "stdout",
     "output_type": "stream",
     "text": [
      "[[ 1  3  6]\n",
      " [ 4  9 15]]\n"
     ]
    }
   ],
   "source": [
    "import numpy as np\n",
    "\n",
    "def moving_sum(arr):\n",
    "    return np.cumsum(arr, axis=1)\n",
    "\n",
    "arr = np.array([[1, 2, 3], [4, 5, 6]])\n",
    "result = moving_sum(arr)\n",
    "print(result)"
   ]
  },
  {
   "cell_type": "markdown",
   "id": "b9984e2f-e37e-4563-8cbb-b232c6b4f775",
   "metadata": {},
   "source": [
    "# 45. In the given array, check if all elements in each column are even.\n",
    "            arr = np.array([[2, 4, 6], [3, 5, 7]])"
   ]
  },
  {
   "cell_type": "code",
   "execution_count": 18,
   "id": "611d4f1b-70f3-4657-9230-ec92d9d8d72e",
   "metadata": {},
   "outputs": [
    {
     "name": "stdout",
     "output_type": "stream",
     "text": [
      "[False False False]\n"
     ]
    }
   ],
   "source": [
    "import numpy as np\n",
    "\n",
    "arr = np.array([[2, 4, 6], [3, 5, 7]])\n",
    "\n",
    "are_columns_even = np.all(arr % 2 == 0, axis=0)\n",
    "\n",
    "print(are_columns_even)"
   ]
  },
  {
   "cell_type": "markdown",
   "id": "45cf8d53-839c-4037-b10a-262234170a42",
   "metadata": {},
   "source": [
    "# 46. Given a NumPy array arr, reshape it into a matrix of dimensions `m` rows and `n` columns. Return the reshaped matrix.\n",
    "              original_array = np.array([1, 2, 3, 4, 5, 6])"
   ]
  },
  {
   "cell_type": "code",
   "execution_count": 19,
   "id": "cfe5d45c-9b36-4919-8193-d23a91ae6215",
   "metadata": {},
   "outputs": [
    {
     "name": "stdout",
     "output_type": "stream",
     "text": [
      "[[1 2 3]\n",
      " [4 5 6]]\n"
     ]
    }
   ],
   "source": [
    "import numpy as np\n",
    "\n",
    "def reshape_array(arr, m, n):\n",
    "    reshaped_matrix = arr.reshape(m, n)\n",
    "    return reshaped_matrix\n",
    "\n",
    "original_array = np.array([1, 2, 3, 4, 5, 6])\n",
    "m = 2\n",
    "n = 3\n",
    "reshaped_matrix = reshape_array(original_array, m, n)\n",
    "print(reshaped_matrix)"
   ]
  },
  {
   "cell_type": "markdown",
   "id": "a760b7af-98c2-4397-8a5f-a79189bb1c1f",
   "metadata": {},
   "source": [
    "# 47. Create a function that takes a matrix as input and returns the flattened array.\n",
    "                 input_matrix = np.array([[1, 2, 3], [4, 5, 6]])"
   ]
  },
  {
   "cell_type": "code",
   "execution_count": 20,
   "id": "c68df7a2-6890-459c-afaa-35ee74b1192b",
   "metadata": {},
   "outputs": [
    {
     "name": "stdout",
     "output_type": "stream",
     "text": [
      "[1 2 3 4 5 6]\n"
     ]
    }
   ],
   "source": [
    "import numpy as np\n",
    "\n",
    "def flatten_matrix(input_matrix):\n",
    "    flattened_array = input_matrix.flatten()\n",
    "    return flattened_array\n",
    "\n",
    "input_matrix = np.array([[1, 2, 3], [4, 5, 6]])\n",
    "flattened_array = flatten_matrix(input_matrix)\n",
    "print(flattened_array)"
   ]
  },
  {
   "cell_type": "markdown",
   "id": "0c2fcd68-672a-44d9-adbd-65eac726f806",
   "metadata": {},
   "source": [
    "# 48. Write a function that concatenates two given arrays along a specified axis.\n",
    "              array1 = np.array([[1, 2], [3, 4]])\n",
    "              array2 = np.array([[5, 6], [7, 8]])"
   ]
  },
  {
   "cell_type": "code",
   "execution_count": 21,
   "id": "1ae8a1d0-0cca-4e82-ba52-54b5a1f8bce8",
   "metadata": {},
   "outputs": [
    {
     "name": "stdout",
     "output_type": "stream",
     "text": [
      "Concatenated along axis 0:\n",
      "[[1 2]\n",
      " [3 4]\n",
      " [5 6]\n",
      " [7 8]]\n",
      "Concatenated along axis 1:\n",
      "[[1 2 5 6]\n",
      " [3 4 7 8]]\n"
     ]
    }
   ],
   "source": [
    "import numpy as np\n",
    "\n",
    "def concatenate_arrays(array1, array2, axis=0):\n",
    "    return np.concatenate((array1, array2), axis=axis)\n",
    "\n",
    "array1 = np.array([[1, 2], [3, 4]])\n",
    "array2 = np.array([[5, 6], [7, 8]])\n",
    "\n",
    "concatenated_array = concatenate_arrays(array1, array2, axis=0)\n",
    "print(\"Concatenated along axis 0:\")\n",
    "print(concatenated_array)\n",
    "\n",
    "concatenated_array = concatenate_arrays(array1, array2, axis=1)\n",
    "print(\"Concatenated along axis 1:\")\n",
    "print(concatenated_array)"
   ]
  },
  {
   "cell_type": "markdown",
   "id": "51fabfef-9d31-458f-aa58-907d599ba1c7",
   "metadata": {},
   "source": [
    "# 49. Create a function that splits an array into multiple sub-arrays along a specified axis.\n",
    "                original_array = np.array([[1, 2, 3], [4, 5, 6], [7, 8, 9]])"
   ]
  },
  {
   "cell_type": "code",
   "execution_count": 22,
   "id": "6aa274b3-e751-4b8b-8605-9793174eda22",
   "metadata": {},
   "outputs": [
    {
     "name": "stdout",
     "output_type": "stream",
     "text": [
      "[array([[1, 2, 3]]), array([[4, 5, 6]]), array([[7, 8, 9]])]\n"
     ]
    }
   ],
   "source": [
    "import numpy as np\n",
    "\n",
    "def split_array(original_array, axis, num_splits):\n",
    "    return np.split(original_array, num_splits, axis=axis)\n",
    "\n",
    "original_array = np.array([[1, 2, 3], [4, 5, 6], [7, 8, 9]])\n",
    "result = split_array(original_array, axis=0, num_splits=3)\n",
    "print(result)"
   ]
  },
  {
   "cell_type": "markdown",
   "id": "cbca02c1-7d47-495d-8b50-7c0a5d3ef288",
   "metadata": {},
   "source": [
    "# 50. Write a function that inserts and then deletes elements from a given array at specified indices.\n",
    "            original_array = np.array([1, 2, 3, 4, 5])\n",
    "            indices_to_insert = [2, 4]\n",
    "            values_to_insert = [10, 11]\n",
    "            indices_to_delete = [1, 3]"
   ]
  },
  {
   "cell_type": "code",
   "execution_count": 23,
   "id": "9bf43dbe-2a98-45c9-a9d4-82c25633434c",
   "metadata": {},
   "outputs": [
    {
     "name": "stdout",
     "output_type": "stream",
     "text": [
      "[ 1 10 11  4  5]\n"
     ]
    }
   ],
   "source": [
    "import numpy as np\n",
    "\n",
    "def insert_and_delete_elements(original_array, indices_to_insert, values_to_insert, indices_to_delete):\n",
    "    for index, value in zip(indices_to_insert, values_to_insert):\n",
    "        original_array = np.insert(original_array, index, value)\n",
    "    \n",
    "    original_array = np.delete(original_array, indices_to_delete)\n",
    "    \n",
    "    return original_array\n",
    "\n",
    "original_array = np.array([1, 2, 3, 4, 5])\n",
    "indices_to_insert = [2, 4]\n",
    "values_to_insert = [10, 11]\n",
    "indices_to_delete = [1, 3]\n",
    "\n",
    "result_array = insert_and_delete_elements(original_array, indices_to_insert, values_to_insert, indices_to_delete)\n",
    "print(result_array)"
   ]
  },
  {
   "cell_type": "markdown",
   "id": "1906240d-9052-4c96-854e-7486bfe19351",
   "metadata": {},
   "source": [
    "# 51. Create a NumPy array `arr1` with random integers and another array `arr2` with integers from 1 to 10. Perform element-wise addition between `arr1` and `arr2`."
   ]
  },
  {
   "cell_type": "code",
   "execution_count": 7,
   "id": "6b8d6ad3-36dd-404c-9d36-0a4a1b12130d",
   "metadata": {},
   "outputs": [
    {
     "name": "stdout",
     "output_type": "stream",
     "text": [
      "arr1:\n",
      "[[82 13 49 87  1 56 46 16 41 49]\n",
      " [ 3 86 73  1 82 90 66 34 59 66]\n",
      " [87 31 66 73 15 62 47 24  7 96]\n",
      " [86 11 49 28 35 63 15 33 96  2]\n",
      " [58  1 66 89 35 54 42 29 48 22]\n",
      " [98 65 50 15 14 94 55 70 52 67]\n",
      " [69 27 56 15 45 55  5 39 86 50]\n",
      " [15 92 32 44 20 96 71 83 34 85]\n",
      " [17 28 46 41 43 37 10  5 56 79]\n",
      " [20 65 98 33 73 42 55 24 62 49]]\n",
      "\n",
      "arr2:\n",
      "[ 1  2  3  4  5  6  7  8  9 10]\n",
      "\n",
      "Result of element-wise addition:\n",
      "[[ 83  15  52  91   6  62  53  24  50  59]\n",
      " [  4  88  76   5  87  96  73  42  68  76]\n",
      " [ 88  33  69  77  20  68  54  32  16 106]\n",
      " [ 87  13  52  32  40  69  22  41 105  12]\n",
      " [ 59   3  69  93  40  60  49  37  57  32]\n",
      " [ 99  67  53  19  19 100  62  78  61  77]\n",
      " [ 70  29  59  19  50  61  12  47  95  60]\n",
      " [ 16  94  35  48  25 102  78  91  43  95]\n",
      " [ 18  30  49  45  48  43  17  13  65  89]\n",
      " [ 21  67 101  37  78  48  62  32  71  59]]\n"
     ]
    }
   ],
   "source": [
    "import numpy as np\n",
    "\n",
    "arr1 = np.random.randint(1, 100, size=(10, 10))\n",
    "print(\"arr1:\")\n",
    "print(arr1)\n",
    "\n",
    "arr2 = np.arange(1, 11)\n",
    "print(\"\\narr2:\")\n",
    "print(arr2)\n",
    "\n",
    "result = np.add(arr1, arr2)\n",
    "print(\"\\nResult of element-wise addition:\")\n",
    "print(result)"
   ]
  },
  {
   "cell_type": "markdown",
   "id": "6917ffe1-32f0-470d-800e-89a277b07d78",
   "metadata": {},
   "source": [
    "# 52. Generate a NumPy array `arr1` with sequential integers from 10 to 1 and another array `arr2` with integers from 1 to 10. Subtract `arr2` from `arr1` element-wise."
   ]
  },
  {
   "cell_type": "code",
   "execution_count": 8,
   "id": "0c387c00-d082-4e36-860a-3698de44278d",
   "metadata": {},
   "outputs": [
    {
     "name": "stdout",
     "output_type": "stream",
     "text": [
      "arr1: [10  9  8  7  6  5  4  3  2  1]\n",
      "arr2: [ 1  2  3  4  5  6  7  8  9 10]\n",
      "Result of subtraction: [ 9  7  5  3  1 -1 -3 -5 -7 -9]\n"
     ]
    }
   ],
   "source": [
    "import numpy as np\n",
    "\n",
    "arr1 = np.arange(10, 0, -1)\n",
    "arr2 = np.arange(1, 11)\n",
    "\n",
    "result = arr1 - arr2\n",
    "\n",
    "print(\"arr1:\", arr1)\n",
    "print(\"arr2:\", arr2)\n",
    "print(\"Result of subtraction:\", result)"
   ]
  },
  {
   "cell_type": "markdown",
   "id": "ff5b1292-6145-4b4d-953b-df120cab4162",
   "metadata": {},
   "source": [
    "# 53. Create a NumPy array `arr1` with random integers and another array `arr2` with integers from 1 to 5. Perform element-wise multiplication between `arr1` and `arr2`."
   ]
  },
  {
   "cell_type": "code",
   "execution_count": 12,
   "id": "1e771b33-ab35-42dd-a995-bd135309edeb",
   "metadata": {},
   "outputs": [
    {
     "name": "stdout",
     "output_type": "stream",
     "text": [
      "arr1:\n",
      "[[1 5 7 4 2]\n",
      " [8 7 8 8 9]\n",
      " [7 2 8 1 8]\n",
      " [5 5 8 9 3]\n",
      " [9 9 7 7 9]]\n",
      "\n",
      "arr2:\n",
      "[1 2 3 4 5]\n",
      "\n",
      "Result of element-wise multiplication:\n",
      "[[ 1 10 21 16 10]\n",
      " [ 8 14 24 32 45]\n",
      " [ 7  4 24  4 40]\n",
      " [ 5 10 24 36 15]\n",
      " [ 9 18 21 28 45]]\n"
     ]
    }
   ],
   "source": [
    "import numpy as np\n",
    "\n",
    "arr1 = np.random.randint(1, 10, size=(5, 5))\n",
    "print(\"arr1:\")\n",
    "print(arr1)\n",
    "\n",
    "arr2 = np.arange(1, 6)\n",
    "print(\"\\narr2:\")\n",
    "print(arr2)\n",
    "\n",
    "result = arr1 * arr2\n",
    "print(\"\\nResult of element-wise multiplication:\")\n",
    "print(result)"
   ]
  },
  {
   "cell_type": "markdown",
   "id": "83f85fa8-685b-4037-9715-6f800e0fc52a",
   "metadata": {},
   "source": [
    "# 54. Generate a NumPy array `arr1` with even integers from 2 to 10 and another array `arr2` with integers from 1 to 5. Perform element-wise division of `arr1` by `arr2`."
   ]
  },
  {
   "cell_type": "code",
   "execution_count": 13,
   "id": "d5ba1008-ee72-4287-98ac-a859950bf04a",
   "metadata": {},
   "outputs": [
    {
     "name": "stdout",
     "output_type": "stream",
     "text": [
      "arr1: [ 2  4  6  8 10]\n",
      "arr2: [1 2 3 4 5]\n",
      "Result of element-wise division: [2. 2. 2. 2. 2.]\n"
     ]
    }
   ],
   "source": [
    "import numpy as np\n",
    "\n",
    "arr1 = np.arange(2, 11, 2)\n",
    "\n",
    "arr2 = np.arange(1, 6)\n",
    "\n",
    "result = arr1 / arr2\n",
    "\n",
    "print(\"arr1:\", arr1)\n",
    "print(\"arr2:\", arr2)\n",
    "print(\"Result of element-wise division:\", result)"
   ]
  },
  {
   "cell_type": "markdown",
   "id": "e351b43f-4ce2-46d2-b5a1-9a7bafc48af7",
   "metadata": {},
   "source": [
    "# 55. Create a NumPy array `arr1` with integers from 1 to 5 and another array `arr2` with the same numbers reversed. Calculate the exponentiation of `arr1` raised to the power of `arr2` element-wise."
   ]
  },
  {
   "cell_type": "code",
   "execution_count": 14,
   "id": "5a132a03-4558-46b8-8365-e216d62ae93e",
   "metadata": {},
   "outputs": [
    {
     "name": "stdout",
     "output_type": "stream",
     "text": [
      "[ 1 16 27 16  5]\n"
     ]
    }
   ],
   "source": [
    "import numpy as np\n",
    "\n",
    "arr1 = np.array([1, 2, 3, 4, 5])\n",
    "\n",
    "arr2 = np.flip(arr1)\n",
    "\n",
    "result = np.power(arr1, arr2)\n",
    "\n",
    "print(result)"
   ]
  },
  {
   "cell_type": "markdown",
   "id": "84a9c563-7a75-41c5-b690-4d6b6ed963ec",
   "metadata": {},
   "source": [
    "# 56. Write a function that counts the occurrences of a specific substring within a NumPy array of strings.\n",
    "        arr = np.array(['hello', 'world', 'hello', 'numpy', 'hello'])"
   ]
  },
  {
   "cell_type": "code",
   "execution_count": 15,
   "id": "6d608982-42a6-459f-b191-3d47150ee19e",
   "metadata": {},
   "outputs": [
    {
     "name": "stdout",
     "output_type": "stream",
     "text": [
      "2\n"
     ]
    }
   ],
   "source": [
    "import numpy as np\n",
    "\n",
    "def count_substring_occurrences(array, substring):\n",
    "\n",
    "    flat_array = array.flatten()\n",
    "\n",
    "    counts = np.char.count(flat_array, substring)\n",
    "\n",
    "    total_count = np.sum(counts)\n",
    "    \n",
    "    return total_count\n",
    "\n",
    "array = np.array([\"hello\", \"world\", \"hello\", \"numpy\"])\n",
    "substring = \"hello\"\n",
    "print(count_substring_occurrences(array, substring))"
   ]
  },
  {
   "cell_type": "markdown",
   "id": "dbfef195-80c2-4dac-850e-ef75199ed6ef",
   "metadata": {},
   "source": [
    "# 57. Write a function that extracts uppercase characters from a NumPy array of strings.\n",
    "        arr = np.array(['Hello', 'World', 'OpenAI', 'GPT'])"
   ]
  },
  {
   "cell_type": "code",
   "execution_count": 18,
   "id": "eab73ca8-527c-4593-8a7d-b3df6b804931",
   "metadata": {},
   "outputs": [
    {
     "name": "stdout",
     "output_type": "stream",
     "text": [
      "['H' 'W' 'OAI' 'GPT']\n"
     ]
    }
   ],
   "source": [
    "import numpy as np\n",
    "\n",
    "def extract_uppercase(arr):\n",
    "    upper_chars = np.array([''.join(filter(str.isupper, word)) for word in arr])\n",
    "    return upper_chars\n",
    "\n",
    "arr = np.array(['Hello', 'World', 'OpenAI', 'GPT'])\n",
    "uppercase_chars = extract_uppercase(arr)\n",
    "print(uppercase_chars)"
   ]
  },
  {
   "cell_type": "markdown",
   "id": "da87f1b3-b5a7-4b0f-8cc4-1e6095feed77",
   "metadata": {},
   "source": [
    "# 58. Write a function that replaces occurrences of a substring in a NumPy array of strings with a new string.\n",
    "       arr = np.array(['apple', 'banana', 'grape', 'pineapple'])"
   ]
  },
  {
   "cell_type": "code",
   "execution_count": 19,
   "id": "d993f0a6-e2e5-420a-9c74-94f28e3f1b13",
   "metadata": {},
   "outputs": [
    {
     "name": "stdout",
     "output_type": "stream",
     "text": [
      "['orange' 'banana' 'grape' 'pineorange']\n"
     ]
    }
   ],
   "source": [
    "import numpy as np\n",
    "\n",
    "def replace_substring(arr, old_substring, new_substring):\n",
    "\n",
    "    replaced = np.core.defchararray.replace(arr, old_substring, new_substring)\n",
    "    return replaced\n",
    "\n",
    "arr = np.array(['apple', 'banana', 'grape', 'pineapple'])\n",
    "new_arr = replace_substring(arr, 'apple', 'orange')\n",
    "print(new_arr)"
   ]
  },
  {
   "cell_type": "markdown",
   "id": "d5777b78-e1bc-41b2-bdf2-0f13a121f67d",
   "metadata": {},
   "source": [
    "# 59. Write a function that concatenates strings in a NumPy array element-wise.\n",
    "         arr1 = np.array(['Hello', 'World'])\n",
    "         arr2 = np.array(['Open', 'AI'])"
   ]
  },
  {
   "cell_type": "code",
   "execution_count": 20,
   "id": "adffa9af-bf8a-4c4b-ab20-0ae06166361a",
   "metadata": {},
   "outputs": [
    {
     "name": "stdout",
     "output_type": "stream",
     "text": [
      "['HelloOpen' 'WorldAI']\n"
     ]
    }
   ],
   "source": [
    "import numpy as np\n",
    "\n",
    "def concatenate_strings_elementwise(arr1, arr2):\n",
    "    concatenate_func = np.vectorize(lambda x, y: x + y)\n",
    "    return concatenate_func(arr1, arr2)\n",
    "\n",
    "arr1 = np.array(['Hello', 'World'])\n",
    "arr2 = np.array(['Open', 'AI'])\n",
    "result = concatenate_strings_elementwise(arr1, arr2)\n",
    "print(result)"
   ]
  },
  {
   "cell_type": "markdown",
   "id": "58f1e641-0ec2-40b5-85ba-fffb5627940d",
   "metadata": {},
   "source": [
    "# 60. Write a function that finds the length of the longest string in a NumPy array.\n",
    "         arr = np.array(['apple', 'banana', 'grape', 'pineapple'])"
   ]
  },
  {
   "cell_type": "code",
   "execution_count": 21,
   "id": "da5342d8-5f19-4ee4-938b-d69b3940ba34",
   "metadata": {},
   "outputs": [
    {
     "name": "stdout",
     "output_type": "stream",
     "text": [
      "9\n"
     ]
    }
   ],
   "source": [
    "import numpy as np\n",
    "\n",
    "def longest_string_length(arr):\n",
    "\n",
    "    lengths = [len(str(s)) for s in arr]\n",
    "\n",
    "    max_length = max(lengths)\n",
    "    return max_length\n",
    "\n",
    "arr = np.array(['apple', 'banana', 'grape', 'pineapple'])\n",
    "print(longest_string_length(arr))"
   ]
  },
  {
   "cell_type": "markdown",
   "id": "5829cb00-b66a-4ae3-87df-b785bdb69d24",
   "metadata": {},
   "source": [
    "# 61. Create a dataset of 100 random integers between 1 and 1000. Compute the mean, median, variance, and standard deviation of the dataset using NumPy's functions."
   ]
  },
  {
   "cell_type": "code",
   "execution_count": 22,
   "id": "33cda36b-dfc1-46e6-ad07-7e36c5c12a16",
   "metadata": {},
   "outputs": [
    {
     "name": "stdout",
     "output_type": "stream",
     "text": [
      "Dataset: [687 247  87 904 264 990 995 797 278 720 904 602 381 976 322 252 393 663\n",
      " 384 819 229 370 887 460 619 386 604 844 207 762 328 590 975 517 789 626\n",
      " 712 497  75 390 291 222 425 522 714 173 742 300 386  11 152 262 526 127\n",
      " 522 748 145 124 951 356 930 776 106 174 966  74 669 647 135 364 241 542\n",
      " 902 644  71 383 952  94  81 164  48 953 500 586 502 964 872 990 342 939\n",
      " 571 869  10 916 540 706  78 969 783 834]\n",
      "Mean: 521.18\n",
      "Median: 522.0\n",
      "Variance: 90762.26759999999\n",
      "Standard Deviation: 301.2677672768861\n"
     ]
    }
   ],
   "source": [
    "import numpy as np\n",
    "\n",
    "dataset = np.random.randint(1, 1001, size=100)\n",
    "\n",
    "mean = np.mean(dataset)\n",
    "\n",
    "median = np.median(dataset)\n",
    "\n",
    "variance = np.var(dataset)\n",
    "\n",
    "std_dev = np.std(dataset)\n",
    "\n",
    "print(\"Dataset:\", dataset)\n",
    "print(\"Mean:\", mean)\n",
    "print(\"Median:\", median)\n",
    "print(\"Variance:\", variance)\n",
    "print(\"Standard Deviation:\", std_dev)"
   ]
  },
  {
   "cell_type": "markdown",
   "id": "3245cc76-e4ed-4355-a250-4383eebb942b",
   "metadata": {},
   "source": [
    "# 62. Generate an array of 50 random numbers between 1 and 100. Find the 25th and 75th percentiles of the dataset."
   ]
  },
  {
   "cell_type": "code",
   "execution_count": 23,
   "id": "795f465c-4390-42a6-999a-1e8d664dda8e",
   "metadata": {},
   "outputs": [
    {
     "name": "stdout",
     "output_type": "stream",
     "text": [
      "Array of random numbers: [ 13   5  91  22  80  79  92  57  33  86  93   2  95  87  17  85   5  62\n",
      "  35  56  43 100   8   8  16  68  60  85  76  67   8  37  99  30  34  62\n",
      "  28   6  49  87  50   1  13  50  40  41  52  72  36  87]\n",
      "25th percentile: 23.5\n",
      "75th percentile: 79.75\n"
     ]
    }
   ],
   "source": [
    "import numpy as np\n",
    "\n",
    "random_numbers = np.random.randint(1, 101, 50)\n",
    "\n",
    "percentile_25 = np.percentile(random_numbers, 25)\n",
    "percentile_75 = np.percentile(random_numbers, 75)\n",
    "\n",
    "print(\"Array of random numbers:\", random_numbers)\n",
    "print(\"25th percentile:\", percentile_25)\n",
    "print(\"75th percentile:\", percentile_75)"
   ]
  },
  {
   "cell_type": "markdown",
   "id": "4920b704-88d9-4118-9d3e-4a48c7fd552b",
   "metadata": {},
   "source": [
    "# 63. Create two arrays representing two sets of variables. Compute the correlation coefficient between these arrays using NumPy's `corrcoef` function."
   ]
  },
  {
   "cell_type": "code",
   "execution_count": 24,
   "id": "e5b039f9-875e-4c1f-8a10-f5ffc2dad43a",
   "metadata": {},
   "outputs": [
    {
     "name": "stdout",
     "output_type": "stream",
     "text": [
      "Correlation Coefficient: -0.9999999999999999\n"
     ]
    }
   ],
   "source": [
    "import numpy as np\n",
    "\n",
    "array1 = np.array([1, 2, 3, 4, 5])\n",
    "array2 = np.array([5, 4, 3, 2, 1])\n",
    "\n",
    "correlation_coefficient = np.corrcoef(array1, array2)[0, 1]\n",
    "\n",
    "print(\"Correlation Coefficient:\", correlation_coefficient)"
   ]
  },
  {
   "cell_type": "markdown",
   "id": "30e7f4d3-5c58-4d84-aef9-9190da559730",
   "metadata": {},
   "source": [
    "# 64. Create two matrices and perform matrix multiplication using NumPy's `dot` function."
   ]
  },
  {
   "cell_type": "code",
   "execution_count": 25,
   "id": "01ed11b3-ccaf-4088-967d-4666d88f003c",
   "metadata": {},
   "outputs": [
    {
     "name": "stdout",
     "output_type": "stream",
     "text": [
      "Matrix 1:\n",
      "[[1 2 3]\n",
      " [4 5 6]\n",
      " [7 8 9]]\n",
      "\n",
      "Matrix 2:\n",
      "[[9 8 7]\n",
      " [6 5 4]\n",
      " [3 2 1]]\n",
      "\n",
      "Result of matrix multiplication:\n",
      "[[ 30  24  18]\n",
      " [ 84  69  54]\n",
      " [138 114  90]]\n"
     ]
    }
   ],
   "source": [
    "import numpy as np\n",
    "\n",
    "matrix1 = np.array([[1, 2, 3],\n",
    "                    [4, 5, 6],\n",
    "                    [7, 8, 9]])\n",
    "\n",
    "matrix2 = np.array([[9, 8, 7],\n",
    "                    [6, 5, 4],\n",
    "                    [3, 2, 1]])\n",
    "\n",
    "result = np.dot(matrix1, matrix2)\n",
    "\n",
    "print(\"Matrix 1:\")\n",
    "print(matrix1)\n",
    "print(\"\\nMatrix 2:\")\n",
    "print(matrix2)\n",
    "print(\"\\nResult of matrix multiplication:\")\n",
    "print(result)"
   ]
  },
  {
   "cell_type": "markdown",
   "id": "b3153f38-8fb4-4d59-92c0-b9eb2fff8139",
   "metadata": {},
   "source": [
    "# 65. Create an array of 50 integers between 10 and 1000. Calculate the 10th, 50th (median), and 90th percentiles along with the first and third quartiles."
   ]
  },
  {
   "cell_type": "code",
   "execution_count": 26,
   "id": "82d421ef-ba46-45ac-b3c9-0665e181be1d",
   "metadata": {},
   "outputs": [
    {
     "name": "stdout",
     "output_type": "stream",
     "text": [
      "Array: [748 990 507 562 340 998 910 252 871 907 162 157 875 310  11 747  62 789\n",
      " 930 122 688 886 821  27 202 172 203 597 220 358 760 423 511 920 748 415\n",
      " 104 101 245  75 671 899 648 460  67  34 282 665 560 449]\n",
      "10th percentile: 74.2\n",
      "25th percentile (first quartile): 202.25\n",
      "Median (50th percentile): 483.5\n",
      "75th percentile (third quartile): 757.0\n",
      "90th percentile: 907.3\n"
     ]
    }
   ],
   "source": [
    "import numpy as np\n",
    "\n",
    "array = np.random.randint(10, 1001, 50)\n",
    "\n",
    "percentiles = np.percentile(array, [10, 25, 50, 75, 90])\n",
    "\n",
    "print(\"Array:\", array)\n",
    "print(\"10th percentile:\", percentiles[0])\n",
    "print(\"25th percentile (first quartile):\", percentiles[1])\n",
    "print(\"Median (50th percentile):\", percentiles[2])\n",
    "print(\"75th percentile (third quartile):\", percentiles[3])\n",
    "print(\"90th percentile:\", percentiles[4])"
   ]
  },
  {
   "cell_type": "markdown",
   "id": "d481c913-7e1a-4bce-987f-75146b9fd11d",
   "metadata": {},
   "source": [
    "# 66. Create a NumPy array of integers and find the index of a specific element."
   ]
  },
  {
   "cell_type": "code",
   "execution_count": 27,
   "id": "ca08f8f8-a056-442e-b26e-078bec13ff7e",
   "metadata": {},
   "outputs": [
    {
     "name": "stdout",
     "output_type": "stream",
     "text": [
      "Element 6 found at index: 5\n"
     ]
    }
   ],
   "source": [
    "import numpy as np\n",
    "\n",
    "array = np.array([1, 2, 3, 4, 5, 6, 7, 8, 9])\n",
    "\n",
    "element_to_find = 6\n",
    "\n",
    "index = np.where(array == element_to_find)[0]\n",
    "\n",
    "if len(index) > 0:\n",
    "    print(\"Element\", element_to_find, \"found at index:\", index[0])\n",
    "else:\n",
    "    print(\"Element\", element_to_find, \"not found in the array.\")"
   ]
  },
  {
   "cell_type": "markdown",
   "id": "c17022a9-3ab8-4967-bdbe-bdd22c07dd63",
   "metadata": {},
   "source": [
    "# 67. Generate a random NumPy array and sort it in ascending order."
   ]
  },
  {
   "cell_type": "code",
   "execution_count": 28,
   "id": "f538277b-a911-4b75-8cd8-24e88a12d6f4",
   "metadata": {},
   "outputs": [
    {
     "name": "stdout",
     "output_type": "stream",
     "text": [
      "Random array: [0.60369613 0.10345987 0.64555587 0.48664869 0.86236089 0.38217683\n",
      " 0.30565673 0.76789419 0.472784   0.02423443]\n",
      "Sorted array: [0.02423443 0.10345987 0.30565673 0.38217683 0.472784   0.48664869\n",
      " 0.60369613 0.64555587 0.76789419 0.86236089]\n"
     ]
    }
   ],
   "source": [
    "import numpy as np\n",
    "\n",
    "random_array = np.random.rand(10)\n",
    "\n",
    "sorted_array = np.sort(random_array)\n",
    "\n",
    "print(\"Random array:\", random_array)\n",
    "print(\"Sorted array:\", sorted_array)"
   ]
  },
  {
   "cell_type": "markdown",
   "id": "930bd08b-70ae-4d9f-b911-fe614fba3daf",
   "metadata": {},
   "source": [
    "# 68. Filter elements >20  in the given NumPy array.\n",
    "        arr = np.array([12, 25, 6, 42, 8, 30])"
   ]
  },
  {
   "cell_type": "code",
   "execution_count": 29,
   "id": "0481a2bc-8d5f-4672-9af8-f20d5b5a8451",
   "metadata": {},
   "outputs": [
    {
     "name": "stdout",
     "output_type": "stream",
     "text": [
      "[25 42 30]\n"
     ]
    }
   ],
   "source": [
    "import numpy as np\n",
    "\n",
    "arr = np.array([12, 25, 6, 42, 8, 30])\n",
    "\n",
    "filtered_arr = arr[arr > 20]\n",
    "\n",
    "print(filtered_arr)"
   ]
  },
  {
   "cell_type": "markdown",
   "id": "75b811f6-cb68-435c-b4fe-d5b21d6ad970",
   "metadata": {},
   "source": [
    "# 69. Filter elements which are divisible by 3 from a given NumPy array.\n",
    "        arr = np.array([1, 5, 8, 12, 15])"
   ]
  },
  {
   "cell_type": "code",
   "execution_count": 30,
   "id": "8301d6ba-326f-4b9b-970e-4419f199249b",
   "metadata": {},
   "outputs": [
    {
     "name": "stdout",
     "output_type": "stream",
     "text": [
      "[12 15]\n"
     ]
    }
   ],
   "source": [
    "import numpy as np\n",
    "\n",
    "arr = np.array([1, 5, 8, 12, 15])\n",
    "\n",
    "divisible_by_3 = arr[arr % 3 == 0]\n",
    "\n",
    "print(divisible_by_3)"
   ]
  },
  {
   "cell_type": "markdown",
   "id": "9915cf4d-b3c2-479f-af13-19f6303cbff8",
   "metadata": {},
   "source": [
    "# 70. Filter elements which are ≥ 20 and ≤ 40 from a given NumPy array.\n",
    "         arr = np.array([10, 20, 30, 40, 50])"
   ]
  },
  {
   "cell_type": "code",
   "execution_count": 31,
   "id": "34da498e-2f54-4b67-97b2-d4156774a2dd",
   "metadata": {},
   "outputs": [
    {
     "name": "stdout",
     "output_type": "stream",
     "text": [
      "[20 30 40]\n"
     ]
    }
   ],
   "source": [
    "import numpy as np\n",
    "\n",
    "arr = np.array([10, 20, 30, 40, 50])\n",
    "\n",
    "filtered_arr = arr[(arr >= 20) & (arr <= 40)]\n",
    "\n",
    "print(filtered_arr)"
   ]
  },
  {
   "cell_type": "markdown",
   "id": "2e77c0ac-1a6b-41fd-82bb-945fa7313664",
   "metadata": {},
   "source": [
    "# 71. For the given NumPy array, check its byte order using the `dtype` attribute byteorder.\n",
    "          arr = np.array([1, 2, 3])"
   ]
  },
  {
   "cell_type": "code",
   "execution_count": 39,
   "id": "b4c6bf82-a10a-4a72-ab26-97e686e6562e",
   "metadata": {},
   "outputs": [
    {
     "name": "stdout",
     "output_type": "stream",
     "text": [
      "Array: [1 2 3]\n",
      "Datatype: int64\n"
     ]
    }
   ],
   "source": [
    "import numpy as np\n",
    "\n",
    "arr = np.array([1, 2, 3,])\n",
    "\n",
    "print('Array:', arr)\n",
    " \n",
    "print('Datatype:', arr.dtype)"
   ]
  },
  {
   "cell_type": "markdown",
   "id": "14a1a9b7-0ca9-4649-b2b0-679c616618b7",
   "metadata": {},
   "source": [
    "# 72. For the given NumPy array, perform byte swapping in place using `byteswap()`.\n",
    "        arr = np.array([1, 2, 3], dtype=np.int32)"
   ]
  },
  {
   "cell_type": "code",
   "execution_count": 40,
   "id": "dd35a0a9-99dd-4787-8485-7e847a219712",
   "metadata": {},
   "outputs": [
    {
     "name": "stdout",
     "output_type": "stream",
     "text": [
      "Byte swapped array: [16777216 33554432 50331648]\n"
     ]
    }
   ],
   "source": [
    "import numpy as np\n",
    "\n",
    "arr = np.array([1, 2, 3], dtype=np.int32)\n",
    "\n",
    "arr.byteswap(True)\n",
    "\n",
    "print(\"Byte swapped array:\", arr)"
   ]
  },
  {
   "cell_type": "markdown",
   "id": "9af4d750-ba07-4225-a6ce-acc8d108912e",
   "metadata": {},
   "source": [
    "# 73. For the given NumPy array, swap its byte order without modifying the original array using `newbyteorder()`.\n",
    "         arr = np.array([1, 2, 3], dtype=np.int32)"
   ]
  },
  {
   "cell_type": "code",
   "execution_count": 42,
   "id": "31a70948-4832-425c-b6e5-8e19689d1892",
   "metadata": {},
   "outputs": [
    {
     "name": "stdout",
     "output_type": "stream",
     "text": [
      "Original array: [1 2 3]\n",
      "Swapped byte order array: [16777216 33554432 50331648]\n"
     ]
    }
   ],
   "source": [
    "import numpy as np\n",
    "\n",
    "arr = np.array([1, 2, 3], dtype=np.int32)\n",
    "\n",
    "swapped_arr = arr.newbyteorder()\n",
    "\n",
    "print(\"Original array:\", arr)\n",
    "print(\"Swapped byte order array:\", swapped_arr)"
   ]
  },
  {
   "cell_type": "markdown",
   "id": "6acc7e00-c7a5-4dc3-9bf7-7e6f0288ed25",
   "metadata": {},
   "source": [
    "# 74. For the given NumPy array and swap its byte order conditionally based on system endianness using `newbyteorder()`.\n",
    "         arr = np.array([1, 2, 3], dtype=np.int32)"
   ]
  },
  {
   "cell_type": "code",
   "execution_count": 47,
   "id": "e89f4b66-51ff-4020-b995-478cc6cc9bd0",
   "metadata": {},
   "outputs": [
    {
     "name": "stdout",
     "output_type": "stream",
     "text": [
      "[16777216 33554432 50331648]\n"
     ]
    }
   ],
   "source": [
    "import numpy as np\n",
    "import sys\n",
    "\n",
    "arr = np.array([1, 2, 3], dtype=np.int32)\n",
    "\n",
    "if sys.byteorder == 'little': \n",
    "    arr = arr.newbyteorder('big')\n",
    "else:\n",
    "    arr = arr.newbyteorder('little') \n",
    "\n",
    "print(arr)"
   ]
  },
  {
   "cell_type": "markdown",
   "id": "ecb47f11-a421-490e-92fc-643fd8997445",
   "metadata": {},
   "source": [
    "# 75. For the given NumPy array, check if byte swapping is necessary for the current system using `dtype` attribute `byteorder`.\n",
    "           arr = np.array([1, 2, 3], dtype=np.int32)"
   ]
  },
  {
   "cell_type": "code",
   "execution_count": 48,
   "id": "e6405390-32a3-4139-8e88-a571fb9bc545",
   "metadata": {},
   "outputs": [
    {
     "name": "stdout",
     "output_type": "stream",
     "text": [
      "Byte swapping is not necessary for the current system.\n"
     ]
    }
   ],
   "source": [
    "import numpy as np\n",
    "\n",
    "arr = np.array([1, 2, 3], dtype=np.int32)\n",
    "\n",
    "if arr.dtype.byteorder != '=':\n",
    "    print(\"Byte swapping is necessary for the current system.\")\n",
    "else:\n",
    "    print(\"Byte swapping is not necessary for the current system.\")"
   ]
  },
  {
   "cell_type": "markdown",
   "id": "ba86667a-5fd2-4c30-8001-fd7ef30dee38",
   "metadata": {},
   "source": [
    "# 76. Create a NumPy array `arr1` with values from 1 to 10. Create a copy of `arr1` named `copy_arr` and modify an element in `copy_arr`. Check if modifying `copy_arr` affects `arr1`."
   ]
  },
  {
   "cell_type": "code",
   "execution_count": 49,
   "id": "c54f8ee5-bf30-43c3-8265-2836ae720406",
   "metadata": {},
   "outputs": [
    {
     "name": "stdout",
     "output_type": "stream",
     "text": [
      "Original arr1: [ 1  2  3  4  5  6  7  8  9 10]\n",
      "Modified copy_arr: [100   2   3   4   5   6   7   8   9  10]\n"
     ]
    }
   ],
   "source": [
    "import numpy as np\n",
    "\n",
    "arr1 = np.arange(1, 11)\n",
    "\n",
    "copy_arr = arr1.copy()\n",
    "\n",
    "copy_arr[0] = 100\n",
    "\n",
    "print(\"Original arr1:\", arr1)\n",
    "print(\"Modified copy_arr:\", copy_arr)"
   ]
  },
  {
   "cell_type": "markdown",
   "id": "77e0eefd-183e-4474-8f04-ddc961d553c1",
   "metadata": {},
   "source": [
    "# 77. Create a 2D NumPy array `matrix` of shape (3, 3) with random integers. Extract a slice `view_slice` from the matrix. Modify an element in `view_slice` and observe if it changes the original `matrix`."
   ]
  },
  {
   "cell_type": "code",
   "execution_count": 50,
   "id": "3e1b6abf-996f-4e31-b6ec-b0213b94b921",
   "metadata": {},
   "outputs": [
    {
     "name": "stdout",
     "output_type": "stream",
     "text": [
      "Original Matrix:\n",
      "[[6 8 1]\n",
      " [7 3 9]\n",
      " [3 7 6]]\n",
      "\n",
      "Extracted Slice:\n",
      "[[6 8]\n",
      " [7 3]]\n",
      "\n",
      "Modified Slice:\n",
      "[[999   8]\n",
      " [  7   3]]\n",
      "\n",
      "Original Matrix After Modification:\n",
      "[[999   8   1]\n",
      " [  7   3   9]\n",
      " [  3   7   6]]\n"
     ]
    }
   ],
   "source": [
    "import numpy as np\n",
    "\n",
    "matrix = np.random.randint(0, 10, (3, 3))\n",
    "\n",
    "print(\"Original Matrix:\")\n",
    "print(matrix)\n",
    "\n",
    "view_slice = matrix[:2, :2]\n",
    "\n",
    "print(\"\\nExtracted Slice:\")\n",
    "print(view_slice)\n",
    "\n",
    "view_slice[0, 0] = 999\n",
    "\n",
    "print(\"\\nModified Slice:\")\n",
    "print(view_slice)\n",
    "\n",
    "print(\"\\nOriginal Matrix After Modification:\")\n",
    "print(matrix)"
   ]
  },
  {
   "cell_type": "markdown",
   "id": "d544c167-5f47-4834-b1c9-63955c8cc994",
   "metadata": {},
   "source": [
    "# 78. Create a NumPy array `array_a` of shape (4, 3) with sequential integers from 1 to 12. Extract a slice `view_b` from `array_a` and broadcast the addition of 5 to view_b. Check if it alters the original `array_a`."
   ]
  },
  {
   "cell_type": "code",
   "execution_count": 51,
   "id": "39bce858-b50b-461a-8577-56aa1a70c1ea",
   "metadata": {},
   "outputs": [
    {
     "name": "stdout",
     "output_type": "stream",
     "text": [
      "Original array_a:\n",
      "[[ 6  7  3]\n",
      " [ 9 10  6]\n",
      " [ 7  8  9]\n",
      " [10 11 12]]\n"
     ]
    }
   ],
   "source": [
    "import numpy as np\n",
    "\n",
    "array_a = np.arange(1, 13).reshape(4, 3)\n",
    "\n",
    "view_b = array_a[:2, :2]\n",
    "\n",
    "view_b += 5\n",
    "\n",
    "print(\"Original array_a:\")\n",
    "print(array_a)"
   ]
  },
  {
   "cell_type": "markdown",
   "id": "0775c86c-368e-43ce-b81d-20bda7702100",
   "metadata": {},
   "source": [
    "# 79. Create a NumPy array `orig_array` of shape (2, 4) with values from 1 to 8. Create a reshaped view `reshaped_view` of shape (4, 2) from orig_array. Modify an element in `reshaped_view` and check if it reflects changes in the original `orig_array`."
   ]
  },
  {
   "cell_type": "code",
   "execution_count": 52,
   "id": "a18ac228-d9a9-43d0-abef-96248b010d96",
   "metadata": {},
   "outputs": [
    {
     "name": "stdout",
     "output_type": "stream",
     "text": [
      "Original Array:\n",
      "[[1 2 3 4]\n",
      " [5 6 7 8]]\n",
      "\n",
      "Reshaped View:\n",
      "[[1 2]\n",
      " [3 4]\n",
      " [5 6]\n",
      " [7 8]]\n",
      "\n",
      "Modified Original Array:\n",
      "[[  1   2 100   4]\n",
      " [  5   6   7   8]]\n"
     ]
    }
   ],
   "source": [
    "import numpy as np\n",
    "\n",
    "orig_array = np.arange(1, 9).reshape(2, 4)\n",
    "print(\"Original Array:\")\n",
    "print(orig_array)\n",
    "\n",
    "reshaped_view = orig_array.reshape(4, 2)\n",
    "print(\"\\nReshaped View:\")\n",
    "print(reshaped_view)\n",
    "\n",
    "reshaped_view[1, 0] = 100\n",
    "\n",
    "print(\"\\nModified Original Array:\")\n",
    "print(orig_array)"
   ]
  },
  {
   "cell_type": "markdown",
   "id": "308532f1-d5ab-4780-94ae-4efb35a3ce91",
   "metadata": {},
   "source": [
    "# 80. Create a NumPy array `data` of shape (3, 4) with random integers. Extract a copy `data_copy` of elements greater than 5. Modify an element in `data_copy` and verify if it affects the original `data`."
   ]
  },
  {
   "cell_type": "code",
   "execution_count": 53,
   "id": "1ef3c5a3-b06a-4030-8980-5e8261e6cba9",
   "metadata": {},
   "outputs": [
    {
     "name": "stdout",
     "output_type": "stream",
     "text": [
      "Original data:\n",
      "[[5 2 4 9]\n",
      " [3 6 9 3]\n",
      " [9 3 3 5]]\n",
      "\n",
      "Copied data (elements greater than 5):\n",
      "[9 6 9 9]\n",
      "\n",
      "Original data after modifying data_copy:\n",
      "[[5 2 4 9]\n",
      " [3 6 9 3]\n",
      " [9 3 3 5]]\n"
     ]
    }
   ],
   "source": [
    "import numpy as np\n",
    "\n",
    "data = np.random.randint(0, 10, size=(3, 4))\n",
    "print(\"Original data:\")\n",
    "print(data)\n",
    "\n",
    "data_copy = data[data > 5].copy()\n",
    "print(\"\\nCopied data (elements greater than 5):\")\n",
    "print(data_copy)\n",
    "\n",
    "if data_copy.size > 0:\n",
    "    data_copy[0] = 10\n",
    "\n",
    "print(\"\\nOriginal data after modifying data_copy:\")\n",
    "print(data)"
   ]
  },
  {
   "cell_type": "markdown",
   "id": "84cc31e8-80f9-4559-8728-c82df694b19c",
   "metadata": {},
   "source": [
    "# 81. Create two matrices A and B of identical shape containing integers and perform addition and subtraction operations between them."
   ]
  },
  {
   "cell_type": "code",
   "execution_count": 54,
   "id": "3e701c99-8ade-4d6c-8340-262f76edd51e",
   "metadata": {},
   "outputs": [
    {
     "name": "stdout",
     "output_type": "stream",
     "text": [
      "Matrix A:\n",
      "[[7 8 9]\n",
      " [6 8 8]\n",
      " [7 9 7]]\n",
      "\n",
      "Matrix B:\n",
      "[[8 7 8]\n",
      " [5 1 6]\n",
      " [5 3 9]]\n",
      "\n",
      "Addition Result:\n",
      "[[15 15 17]\n",
      " [11  9 14]\n",
      " [12 12 16]]\n",
      "\n",
      "Subtraction Result:\n",
      "[[-1  1  1]\n",
      " [ 1  7  2]\n",
      " [ 2  6 -2]]\n"
     ]
    }
   ],
   "source": [
    "import numpy as np\n",
    "\n",
    "rows = 3\n",
    "cols = 3\n",
    "\n",
    "A = np.random.randint(1, 10, size=(rows, cols))\n",
    "\n",
    "B = np.random.randint(1, 10, size=(rows, cols))\n",
    "\n",
    "addition_result = A + B\n",
    "\n",
    "subtraction_result = A - B\n",
    "\n",
    "print(\"Matrix A:\")\n",
    "print(A)\n",
    "print(\"\\nMatrix B:\")\n",
    "print(B)\n",
    "print(\"\\nAddition Result:\")\n",
    "print(addition_result)\n",
    "print(\"\\nSubtraction Result:\")\n",
    "print(subtraction_result)"
   ]
  },
  {
   "cell_type": "markdown",
   "id": "20290631-c9db-4dfa-984c-1b6b178bab56",
   "metadata": {},
   "source": [
    "# 82. Generate two matrices `C` (3x2) and `D` (2x4) and perform matrix multiplication"
   ]
  },
  {
   "cell_type": "code",
   "execution_count": 55,
   "id": "899aceff-c4fe-48f4-a61b-60b059297df8",
   "metadata": {},
   "outputs": [
    {
     "name": "stdout",
     "output_type": "stream",
     "text": [
      "Matrix C (3x2):\n",
      "[[1 2]\n",
      " [3 4]\n",
      " [5 6]]\n",
      "\n",
      "Matrix D (2x4):\n",
      "[[ 7  8  9 10]\n",
      " [11 12 13 14]]\n",
      "\n",
      "Result of matrix multiplication (C * D):\n",
      "[[ 29  32  35  38]\n",
      " [ 65  72  79  86]\n",
      " [101 112 123 134]]\n"
     ]
    }
   ],
   "source": [
    "import numpy as np\n",
    "\n",
    "C = np.array([[1, 2],\n",
    "              [3, 4],\n",
    "              [5, 6]])\n",
    "\n",
    "D = np.array([[7, 8, 9, 10],\n",
    "              [11, 12, 13, 14]])\n",
    "\n",
    "result = np.dot(C, D)\n",
    "\n",
    "print(\"Matrix C (3x2):\")\n",
    "print(C)\n",
    "print(\"\\nMatrix D (2x4):\")\n",
    "print(D)\n",
    "print(\"\\nResult of matrix multiplication (C * D):\")\n",
    "print(result)"
   ]
  },
  {
   "cell_type": "markdown",
   "id": "36907d56-1ff7-49ef-ab77-0de0197e6ea1",
   "metadata": {},
   "source": [
    "# 83. Create a matrix `E` and find its transpose."
   ]
  },
  {
   "cell_type": "code",
   "execution_count": 56,
   "id": "cec8cb08-007a-4492-b3c4-3e214085b393",
   "metadata": {},
   "outputs": [
    {
     "name": "stdout",
     "output_type": "stream",
     "text": [
      "Matrix E:\n",
      "[[1 2 3]\n",
      " [4 5 6]\n",
      " [7 8 9]]\n",
      "\n",
      "Transpose of matrix E:\n",
      "[[1 4 7]\n",
      " [2 5 8]\n",
      " [3 6 9]]\n"
     ]
    }
   ],
   "source": [
    "import numpy as np\n",
    "\n",
    "E = np.array([[1, 2, 3],\n",
    "              [4, 5, 6],\n",
    "              [7, 8, 9]])\n",
    "\n",
    "print(\"Matrix E:\")\n",
    "print(E)\n",
    "\n",
    "E_transpose = np.transpose(E)\n",
    "\n",
    "print(\"\\nTranspose of matrix E:\")\n",
    "print(E_transpose)"
   ]
  },
  {
   "cell_type": "markdown",
   "id": "15e08684-fb6d-46ec-aa02-a96384267918",
   "metadata": {},
   "source": [
    "# 84. Generate a square matrix `F` and compute its determinant."
   ]
  },
  {
   "cell_type": "code",
   "execution_count": 59,
   "id": "c1b7785d-3d2a-4fdf-beff-0b74613e5c5c",
   "metadata": {},
   "outputs": [
    {
     "name": "stdout",
     "output_type": "stream",
     "text": [
      "Matrix F:\n",
      "[[0.29531488 0.41061933 0.93076972 0.4125042 ]\n",
      " [0.93755607 0.3435442  0.73876194 0.65777985]\n",
      " [0.88518667 0.63903515 0.44814911 0.33550398]\n",
      " [0.68351524 0.03775489 0.03422074 0.89503886]]\n",
      "\n",
      "Determinant of F: 0.15678820823591527\n"
     ]
    }
   ],
   "source": [
    "import numpy as np\n",
    "\n",
    "F = np.random.rand(4, 4)\n",
    "\n",
    "determinant = np.linalg.det(F)\n",
    "\n",
    "print(\"Matrix F:\")\n",
    "print(F)\n",
    "print(\"\\nDeterminant of F:\", determinant)"
   ]
  },
  {
   "cell_type": "markdown",
   "id": "095877df-f962-47b4-8ad8-925ce49e3b2a",
   "metadata": {},
   "source": [
    "# 85. Create a square matrix `G` and find its inverse."
   ]
  },
  {
   "cell_type": "code",
   "execution_count": 60,
   "id": "bc7b1534-fbcc-4d4b-adbc-ac8f40b2ae74",
   "metadata": {},
   "outputs": [
    {
     "name": "stdout",
     "output_type": "stream",
     "text": [
      "Original Matrix G:\n",
      "[[0.71534113 0.15668379 0.84813083]\n",
      " [0.12681855 0.33957028 0.42548576]\n",
      " [0.61043322 0.97268593 0.86706334]]\n",
      "\n",
      "Inverse of Matrix G:\n",
      "[[ 0.89696901 -5.1752844   1.66223464]\n",
      " [-1.12479423 -0.76992642  1.4780528 ]\n",
      " [ 0.63032516  4.50723949 -1.67503842]]\n"
     ]
    }
   ],
   "source": [
    "import numpy as np\n",
    "\n",
    "G = np.random.rand(3, 3)\n",
    "\n",
    "print(\"Original Matrix G:\")\n",
    "print(G)\n",
    "\n",
    "G_inverse = np.linalg.inv(G)\n",
    "\n",
    "print(\"\\nInverse of Matrix G:\")\n",
    "print(G_inverse)"
   ]
  },
  {
   "cell_type": "code",
   "execution_count": null,
   "id": "d12e405a-ba43-48e9-b64e-2e72e9af3f79",
   "metadata": {},
   "outputs": [],
   "source": []
  }
 ],
 "metadata": {
  "kernelspec": {
   "display_name": "Python 3 (ipykernel)",
   "language": "python",
   "name": "python3"
  },
  "language_info": {
   "codemirror_mode": {
    "name": "ipython",
    "version": 3
   },
   "file_extension": ".py",
   "mimetype": "text/x-python",
   "name": "python",
   "nbconvert_exporter": "python",
   "pygments_lexer": "ipython3",
   "version": "3.10.8"
  }
 },
 "nbformat": 4,
 "nbformat_minor": 5
}
